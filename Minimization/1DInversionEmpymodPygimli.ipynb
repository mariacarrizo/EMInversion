{
 "cells": [
  {
   "cell_type": "markdown",
   "id": "98aba886",
   "metadata": {},
   "source": [
    "# 2D section inversion:\n",
    "## Forward Model 1D: Empymod\n",
    "## Inversion 1D: Pygimli inversion\n",
    "## No lateral constraints"
   ]
  },
  {
   "cell_type": "code",
   "execution_count": 1,
   "id": "8ebf3997",
   "metadata": {},
   "outputs": [],
   "source": [
    "#%matplotlib notebook"
   ]
  },
  {
   "cell_type": "code",
   "execution_count": 2,
   "id": "606effa1",
   "metadata": {},
   "outputs": [],
   "source": [
    "import empymod\n",
    "import numpy as np\n",
    "import matplotlib.pyplot as plt\n",
    "import pygimli as pg"
   ]
  },
  {
   "cell_type": "markdown",
   "id": "696fb930",
   "metadata": {},
   "source": [
    "Dualem coil configurations:"
   ]
  },
  {
   "cell_type": "code",
   "execution_count": 3,
   "id": "10973479",
   "metadata": {},
   "outputs": [],
   "source": [
    "# Receivers geometry\n",
    "\n",
    "offsets = np.array([2, 4, 8]) # in meters\n",
    "height = -0.10 # meter height from ground surface to center of coil\n",
    "rad = 0.08 # Define radius of coil\n",
    "\n",
    "# For HCP\n",
    "Hsource = [-rad, rad, -rad, rad, height, height]\n",
    "Hreceivers =[offsets-rad, offsets+rad, np.ones(3)*-rad, np.ones(3)*rad, height, height]\n",
    "\n",
    "# For VCP\n",
    "Vsource = [0, 0, height, 90, 0]\n",
    "Vreceivers = [offsets, offsets*0, height, 90, 0]\n",
    "\n",
    "# For PRP\n",
    "Psource = [0, 0, height]\n",
    "Preceivers = [offsets, offsets*0, height]\n",
    "\n",
    "# Frequency\n",
    "\n",
    "freq = 9000"
   ]
  },
  {
   "cell_type": "code",
   "execution_count": 34,
   "id": "ae6f520b",
   "metadata": {},
   "outputs": [],
   "source": [
    "# Create forward modeller class\n",
    "\n",
    "class EMforward(pg.Modelling):\n",
    "    \n",
    "    def __init__(self):\n",
    "        \"\"\"Initialize the model.\"\"\"\n",
    "        super().__init__()\n",
    "        \n",
    "    def response(self, x):\n",
    "        \n",
    "        surface = np.array([0])\n",
    "        thkx = np.array(x[0:2])\n",
    "        depthx = np.hstack((surface, thkx[0], thkx[0]+thkx[1]))\n",
    "        res_ground = np.array(x[2:])\n",
    "        res_air = np.array([2e14])\n",
    "        resx = np.hstack((res_air, res_ground))\n",
    "        HCP_Hs = empymod.loop(Hsource, Hreceivers, depthx, resx, freq, xdirect=None, mrec = 'loop', verb=0)\n",
    "        VCP_Hs = empymod.loop(Vsource, Vreceivers, depthx, resx, freq, xdirect=None, mrec = 'loop', verb=0)\n",
    "        PRP_Hs = empymod.dipole(Psource, Preceivers, depthx, resx, freq, ab = 64, xdirect = None, verb = 0)\n",
    "    \n",
    "        HCP_Hp = empymod.loop(Hsource, Hreceivers, depth=[], res=res_air[0], freqtime=freq, mrec = 'loop', verb=0)\n",
    "        VCP_Hp = empymod.loop(Vsource, Vreceivers, depth=[], res=res_air[0], freqtime=freq, mrec = 'loop', verb=0)\n",
    "        PRP_Hp = empymod.dipole(Psource, Preceivers, depth=[], res=res_air[0], freqtime = freq, ab = 66, verb = 0)\n",
    "\n",
    "        Q_HCP = np.abs(np.imag(HCP_Hs/HCP_Hp))\n",
    "        Q_VCP = np.abs(np.imag(VCP_Hs/VCP_Hp))\n",
    "        Q_PRP = np.abs(np.imag(PRP_Hs/PRP_Hp))\n",
    "\n",
    "        P_HCP = np.abs(np.real(HCP_Hs/HCP_Hp))\n",
    "        P_VCP = np.abs(np.real(VCP_Hs/VCP_Hp))\n",
    "        P_PRP = np.abs(np.real(PRP_Hs/PRP_Hp))\n",
    "        \n",
    "        # Normalize values by distance\n",
    "    \n",
    "        Q_HCP[0] = Q_HCP[0]*16\n",
    "        Q_HCP[1] = Q_HCP[1]*4\n",
    "        Q_VCP[0] = Q_VCP[0]*16\n",
    "        Q_VCP[1] = Q_VCP[1]*4\n",
    "        Q_PRP[0] = Q_PRP[0]*16\n",
    "        Q_PRP[1] = Q_PRP[1]*4\n",
    "\n",
    "        P_HCP[0] = P_HCP[0]*16\n",
    "        P_HCP[1] = P_HCP[1]*4\n",
    "        P_VCP[0] = P_VCP[0]*16\n",
    "        P_VCP[1] = P_VCP[1]*4\n",
    "        P_PRP[0] = P_PRP[0]*16\n",
    "        P_PRP[1] = P_PRP[1]*4\n",
    "           \n",
    "        return np.hstack((Q_HCP, Q_VCP, Q_PRP, P_HCP, P_VCP, P_PRP))\n",
    "               \n",
    "    def createStartModel(self, dataVals):\n",
    "        \n",
    "        thk_ini = [3, 4]\n",
    "        res_ini = [10, 10, 10]\n",
    "        x0 = thk_ini + res_ini\n",
    "        return np.array(x0)"
   ]
  },
  {
   "cell_type": "code",
   "execution_count": 35,
   "id": "808b7571",
   "metadata": {},
   "outputs": [],
   "source": [
    "# parameters for the synthetic model\n",
    "\n",
    "nlayer = 3 # number of layer\n",
    "npos = 20 # number of sampling positions\n",
    "\n",
    "resistivities = [10,50,10]\n",
    "res = np.ones((npos, nlayer))*resistivities\n",
    "x = np.linspace(0, 20, npos)[:,None]\n",
    "thk1 = 2 + 0.2 * np.sin(x*np.pi*2) # wave\n",
    "thk2 = 2 + np.sin(x*np.pi*2) # wave\n",
    "depthmax = 10\n",
    "ny = 50\n",
    "\n"
   ]
  },
  {
   "cell_type": "code",
   "execution_count": 36,
   "id": "1f310854",
   "metadata": {},
   "outputs": [],
   "source": [
    "# Arrays for plotting\n",
    "y = np.linspace(0, depthmax, ny)\n",
    "xx = np.linspace(0,npos+1,npos+1, endpoint=False) # For step plot\n",
    "\n",
    "def PlotResistivities(thk1, thk2, res, npos, ny, Model):\n",
    "    surface = np.zeros(npos)\n",
    "    depth = np.zeros((npos,4))\n",
    "\n",
    "    # Depths to be plotted\n",
    "    for i in range(npos):\n",
    "        depth[i,0] = 0\n",
    "        depth[i,1] = thk1[i]\n",
    "        depth[i,2] = thk1[i] + thk2[i]\n",
    "        depth[i,3] = thk1[i] + thk2[i]\n",
    "        \n",
    "    resy = np.zeros((npos, ny))\n",
    "\n",
    "    # Resistivities array to be plotted\n",
    "    for i in range(npos):\n",
    "        y1=0\n",
    "        while y[y1] <= depth[i, 1]:\n",
    "            resy[i, y1] = res[i, 0]\n",
    "            y1 += 1\n",
    "            y2=y1\n",
    "        while y[y2] <= depth[i, 2]:\n",
    "            resy[i, y2] = res[i, 1]\n",
    "            y2 += 1\n",
    "            if y2 == 50:\n",
    "                break\n",
    "        resy[i, y2:] = res[i, 2]\n",
    "        \n",
    "    fig, ax = plt.subplots()\n",
    "    pos = ax.imshow(resy.T, cmap='viridis', interpolation='none', extent=[0,npos,10,0], vmin=10, vmax=50)\n",
    "    clb = fig.colorbar(pos, shrink=0.5)\n",
    "    clb.set_label('Resistivity [Ohm . m]',  )\n",
    "    ax.set_ylabel('Depth [m]')\n",
    "    ax.set_xlabel('Position [m]')\n",
    "    ax.set_title(Model)\n",
    "        \n",
    "    return depth, resy"
   ]
  },
  {
   "cell_type": "code",
   "execution_count": 37,
   "id": "1c4d1d69",
   "metadata": {},
   "outputs": [
    {
     "data": {
      "text/plain": [
       "[<matplotlib.lines.Line2D at 0x7f5e4ac4aa00>]"
      ]
     },
     "execution_count": 37,
     "metadata": {},
     "output_type": "execute_result"
    },
    {
     "data": {
      "image/png": "[encoded data removed]",
      "text/plain": [
       "<Figure size 640x480 with 2 Axes>"
      ]
     },
     "metadata": {},
     "output_type": "display_data"
    }
   ],
   "source": [
    "#Plot synthetic model\n",
    "\n",
    "depth, resy = PlotResistivities(thk1, thk2, res, npos, ny, 'Synthetic Model')\n",
    "\n",
    "plt.step(np.hstack((xx, xx[-1])), np.hstack((depth[0,1],depth[:,1],depth[-1,1])), 'r')\n",
    "plt.step(np.hstack((xx, xx[-1])), np.hstack((depth[0,1],depth[:,2],depth[-1,2])),'r')\n",
    "\n",
    "\n"
   ]
  },
  {
   "cell_type": "code",
   "execution_count": 38,
   "id": "f3621770",
   "metadata": {},
   "outputs": [],
   "source": [
    "# Parameters for initial model\n",
    "\n",
    "resistivities_ini = [10, 10, 10]\n",
    "res_ini = np.ones((npos, nlayer))*resistivities_ini\n",
    "thk1_ini = np.ones(npos)*3\n",
    "thk2_ini = np.ones(npos)*4\n"
   ]
  },
  {
   "cell_type": "code",
   "execution_count": 39,
   "id": "f5c083ec",
   "metadata": {},
   "outputs": [
    {
     "data": {
      "text/plain": [
       "[<matplotlib.lines.Line2D at 0x7f5e4ab81730>]"
      ]
     },
     "execution_count": 39,
     "metadata": {},
     "output_type": "execute_result"
    },
    {
     "data": {
      "image/png": "[encoded data removed]",
      "text/plain": [
       "<Figure size 640x480 with 2 Axes>"
      ]
     },
     "metadata": {},
     "output_type": "display_data"
    }
   ],
   "source": [
    "# Plot initial model\n",
    "\n",
    "depth_ini, resy_ini = PlotResistivities(thk1_ini, thk2_ini, res_ini, npos, ny, 'Initial Model')\n",
    "plt.step(np.hstack((xx, xx[-1])), np.hstack((depth_ini[0,1], depth_ini[:,1], depth_ini[-1,1])), 'r')\n",
    "plt.step(np.hstack((xx, xx[-1])), np.hstack((depth_ini[0,1], depth_ini[:,2], depth_ini[-1,2])),'r')"
   ]
  },
  {
   "cell_type": "markdown",
   "id": "9c02c945",
   "metadata": {},
   "source": [
    "Set-up Inversion"
   ]
  },
  {
   "cell_type": "code",
   "execution_count": 40,
   "id": "9beaa51d",
   "metadata": {},
   "outputs": [],
   "source": [
    "# Define inversion transformations\n",
    "\n",
    "transData = pg.trans.TransLog() # log transformation for data\n",
    "transModel = pg.trans.TransLog()  # log-transform ensures thk>0\n",
    "\n",
    "# Create inversion\n",
    "\n",
    "EMf = EMforward()\n",
    "invEM = pg.Inversion()\n",
    "invEM.setForwardOperator(EMf)\n",
    "\n",
    "invEM.transModel = transModel\n",
    "invEM.transData = transData\n"
   ]
  },
  {
   "cell_type": "code",
   "execution_count": 41,
   "id": "eda01d16",
   "metadata": {},
   "outputs": [],
   "source": [
    "# Inputs for inversion:\n",
    "\n",
    "# Create empty array for true model in each position\n",
    "model = []\n",
    "\n",
    "# Create empty array for true data in each position\n",
    "data = []\n",
    "\n",
    "for i in range(npos):\n",
    "    model_i = np.array([thk1[i][0], thk2[i][0]]+resistivities) # True model \n",
    "    model.append(model_i)\n",
    "    data.append(EMf(model_i)) # creating data\n",
    "\n",
    "# Relative error array\n",
    "error = 1e-2 # introduce here the error you want to test\n",
    "relativeError = np.ones_like(data[0]) * error"
   ]
  },
  {
   "cell_type": "code",
   "execution_count": 42,
   "id": "6b79e190",
   "metadata": {},
   "outputs": [
    {
     "name": "stderr",
     "output_type": "stream",
     "text": [
      "11/11/22 - 14:44:58 - pyGIMLi - \u001b[0;32;49mINFO\u001b[0m - Created startmodel from forward operator: [ 3  4 10 10 10]\n",
      "11/11/22 - 14:44:58 - pyGIMLi - \u001b[0;32;49mINFO\u001b[0m - Created startmodel from forward operator: [ 3  4 10 10 10]\n"
     ]
    },
    {
     "name": "stdout",
     "output_type": "stream",
     "text": [
      "\n",
      "\n"
     ]
    },
    {
     "name": "stderr",
     "output_type": "stream",
     "text": [
      "11/11/22 - 14:44:59 - pyGIMLi - \u001b[0;32;49mINFO\u001b[0m - Created startmodel from forward operator: [ 3  4 10 10 10]\n",
      "11/11/22 - 14:44:59 - pyGIMLi - \u001b[0;32;49mINFO\u001b[0m - Created startmodel from forward operator: [ 3  4 10 10 10]\n",
      "11/11/22 - 14:45:00 - pyGIMLi - \u001b[0;32;49mINFO\u001b[0m - Created startmodel from forward operator: [ 3  4 10 10 10]\n"
     ]
    },
    {
     "name": "stdout",
     "output_type": "stream",
     "text": [
      "\n",
      "\n"
     ]
    },
    {
     "name": "stderr",
     "output_type": "stream",
     "text": [
      "11/11/22 - 14:45:00 - pyGIMLi - \u001b[0;32;49mINFO\u001b[0m - Created startmodel from forward operator: [ 3  4 10 10 10]\n"
     ]
    },
    {
     "name": "stdout",
     "output_type": "stream",
     "text": [
      "\n",
      "\n"
     ]
    },
    {
     "name": "stderr",
     "output_type": "stream",
     "text": [
      "11/11/22 - 14:45:01 - pyGIMLi - \u001b[0;32;49mINFO\u001b[0m - Created startmodel from forward operator: [ 3  4 10 10 10]\n"
     ]
    },
    {
     "name": "stdout",
     "output_type": "stream",
     "text": [
      "\n",
      "\n"
     ]
    },
    {
     "name": "stderr",
     "output_type": "stream",
     "text": [
      "11/11/22 - 14:45:01 - pyGIMLi - \u001b[0;32;49mINFO\u001b[0m - Created startmodel from forward operator: [ 3  4 10 10 10]\n",
      "11/11/22 - 14:45:01 - pyGIMLi - \u001b[0;32;49mINFO\u001b[0m - Created startmodel from forward operator: [ 3  4 10 10 10]\n"
     ]
    },
    {
     "name": "stdout",
     "output_type": "stream",
     "text": [
      "\n",
      "\n"
     ]
    },
    {
     "name": "stderr",
     "output_type": "stream",
     "text": [
      "11/11/22 - 14:45:02 - pyGIMLi - \u001b[0;32;49mINFO\u001b[0m - Created startmodel from forward operator: [ 3  4 10 10 10]\n"
     ]
    },
    {
     "name": "stdout",
     "output_type": "stream",
     "text": [
      "\n",
      "\n"
     ]
    },
    {
     "name": "stderr",
     "output_type": "stream",
     "text": [
      "11/11/22 - 14:45:02 - pyGIMLi - \u001b[0;32;49mINFO\u001b[0m - Created startmodel from forward operator: [ 3  4 10 10 10]\n"
     ]
    },
    {
     "name": "stdout",
     "output_type": "stream",
     "text": [
      "\n",
      "\n"
     ]
    },
    {
     "name": "stderr",
     "output_type": "stream",
     "text": [
      "11/11/22 - 14:45:03 - pyGIMLi - \u001b[0;32;49mINFO\u001b[0m - Created startmodel from forward operator: [ 3  4 10 10 10]\n"
     ]
    },
    {
     "name": "stdout",
     "output_type": "stream",
     "text": [
      "\n",
      "\n"
     ]
    },
    {
     "name": "stderr",
     "output_type": "stream",
     "text": [
      "11/11/22 - 14:45:03 - pyGIMLi - \u001b[0;32;49mINFO\u001b[0m - Created startmodel from forward operator: [ 3  4 10 10 10]\n"
     ]
    },
    {
     "name": "stdout",
     "output_type": "stream",
     "text": [
      "\n",
      "\n"
     ]
    },
    {
     "name": "stderr",
     "output_type": "stream",
     "text": [
      "11/11/22 - 14:45:04 - pyGIMLi - \u001b[0;32;49mINFO\u001b[0m - Created startmodel from forward operator: [ 3  4 10 10 10]\n"
     ]
    },
    {
     "name": "stdout",
     "output_type": "stream",
     "text": [
      "\n",
      "\n"
     ]
    },
    {
     "name": "stderr",
     "output_type": "stream",
     "text": [
      "11/11/22 - 14:45:05 - pyGIMLi - \u001b[0;32;49mINFO\u001b[0m - Created startmodel from forward operator: [ 3  4 10 10 10]\n"
     ]
    },
    {
     "name": "stdout",
     "output_type": "stream",
     "text": [
      "\n",
      "\n"
     ]
    },
    {
     "name": "stderr",
     "output_type": "stream",
     "text": [
      "11/11/22 - 14:45:05 - pyGIMLi - \u001b[0;32;49mINFO\u001b[0m - Created startmodel from forward operator: [ 3  4 10 10 10]\n"
     ]
    },
    {
     "name": "stdout",
     "output_type": "stream",
     "text": [
      "\n",
      "\n"
     ]
    },
    {
     "name": "stderr",
     "output_type": "stream",
     "text": [
      "11/11/22 - 14:45:05 - pyGIMLi - \u001b[0;32;49mINFO\u001b[0m - Created startmodel from forward operator: [ 3  4 10 10 10]\n"
     ]
    },
    {
     "name": "stdout",
     "output_type": "stream",
     "text": [
      "\n",
      "\n"
     ]
    },
    {
     "name": "stderr",
     "output_type": "stream",
     "text": [
      "11/11/22 - 14:45:06 - pyGIMLi - \u001b[0;32;49mINFO\u001b[0m - Created startmodel from forward operator: [ 3  4 10 10 10]\n",
      "11/11/22 - 14:45:06 - pyGIMLi - \u001b[0;32;49mINFO\u001b[0m - Created startmodel from forward operator: [ 3  4 10 10 10]\n"
     ]
    },
    {
     "name": "stdout",
     "output_type": "stream",
     "text": [
      "\n",
      "\n"
     ]
    },
    {
     "name": "stderr",
     "output_type": "stream",
     "text": [
      "11/11/22 - 14:45:07 - pyGIMLi - \u001b[0;32;49mINFO\u001b[0m - Created startmodel from forward operator: [ 3  4 10 10 10]\n"
     ]
    },
    {
     "name": "stdout",
     "output_type": "stream",
     "text": [
      "\n",
      "\n"
     ]
    }
   ],
   "source": [
    "# Start inversion\n",
    "\n",
    "model_est_list =[] # empty array to store the model estimated\n",
    "\n",
    "for i in range(npos):\n",
    "    \n",
    "    dataE = np.array(data[i]).copy()\n",
    "    dataE *= np.random.randn(len(dataE)) * relativeError + 1.0\n",
    "\n",
    "    model_est = invEM.run(dataE, relativeError, verbose=False, lam=1, maxIter=40, dPhi=0.01)\n",
    "    \n",
    "    model_est_list.append(model_est)\n",
    "\n",
    "# Model estimation array    \n",
    "model_est_arr = np.array(model_est_list)"
   ]
  },
  {
   "cell_type": "code",
   "execution_count": 43,
   "id": "d1e03b0e",
   "metadata": {},
   "outputs": [
    {
     "data": {
      "text/plain": [
       "[<matplotlib.lines.Line2D at 0x7f5e4aab7820>]"
      ]
     },
     "execution_count": 43,
     "metadata": {},
     "output_type": "execute_result"
    },
    {
     "data": {
      "image/png": "[encoded data removed]",
      "text/plain": [
       "<Figure size 640x480 with 2 Axes>"
      ]
     },
     "metadata": {},
     "output_type": "display_data"
    }
   ],
   "source": [
    "# Plot estimated model\n",
    "\n",
    "depth_,resy_ = PlotResistivities(model_est_arr[:,0], model_est_arr[:,1], model_est_arr[:,2:] , npos, ny,\n",
    "                                 'Estimated Model ' + str(error*100) + ' % error')\n",
    "plt.step(np.hstack((xx, xx[-1])), np.hstack((depth[0,1],depth[:,1],depth[-1,1])), 'r')\n",
    "plt.step(np.hstack((xx, xx[-1])), np.hstack((depth[0,1],depth[:,2],depth[-1,2])), 'r')\n",
    "\n"
   ]
  },
  {
   "cell_type": "code",
   "execution_count": null,
   "id": "3a9e226f",
   "metadata": {},
   "outputs": [],
   "source": []
  },
  {
   "cell_type": "code",
   "execution_count": null,
   "id": "29475f33-5b3a-46b9-bb38-e1072f3e4cf3",
   "metadata": {},
   "outputs": [],
   "source": []
  }
 ],
 "metadata": {
  "kernelspec": {
   "display_name": "pg",
   "language": "python",
   "name": "pg"
  },
  "language_info": {
   "codemirror_mode": {
    "name": "ipython",
    "version": 3
   },
   "file_extension": ".py",
   "mimetype": "text/x-python",
   "name": "python",
   "nbconvert_exporter": "python",
   "pygments_lexer": "ipython3",
   "version": "3.9.13"
  }
 },
 "nbformat": 4,
 "nbformat_minor": 5
}
