{
 "cells": [
  {
   "cell_type": "markdown",
   "id": "51bbc711-9969-43b8-8dc7-324e4a720980",
   "metadata": {},
   "source": [
    "# 1D EM Inversion\n",
    "## Analytic Forward\n",
    "### Wedge example"
   ]
  },
  {
   "cell_type": "code",
   "execution_count": 3,
   "id": "31afaafe-08b6-4270-a664-1ab78a5f899a",
   "metadata": {},
   "outputs": [],
   "source": [
    "import numpy as np\n",
    "import empymod\n",
    "import matplotlib.pyplot as plt\n",
    "from scipy.constants import mu_0\n",
    "import pygimli as pg"
   ]
  },
  {
   "cell_type": "code",
   "execution_count": 4,
   "id": "0279e661-8f76-4d2b-971f-380b775c11fb",
   "metadata": {},
   "outputs": [],
   "source": [
    "# Receivers geometry\n",
    "\n",
    "offsets = np.array([2, 4, 8]) # in meters\n",
    "height = -0.10 # meter height from ground surface to center of coil\n",
    "rad = 0.08 # Define radius of coil\n",
    "\n",
    "# For HCP\n",
    "Hsource = [-rad, rad, -rad, rad, height, height]\n",
    "Hreceivers = [offsets-rad, offsets+rad, np.ones(3)*-rad, np.ones(3)*rad, height, height]\n",
    "\n",
    "# For VCP\n",
    "Vsource = [0, 0, height, 90, 0]\n",
    "Vreceivers = [offsets, offsets*0, height, 90, 0]\n",
    "\n",
    "# For PRP\n",
    "Psource = [0, 0, height]\n",
    "Preceivers = [offsets+0.1, offsets*0, height]\n",
    "\n",
    "# Frequency\n",
    "freq = 9000"
   ]
  },
  {
   "cell_type": "code",
   "execution_count": 5,
   "id": "667a0cfe-682a-4843-bf49-5c82b11e4c73",
   "metadata": {},
   "outputs": [],
   "source": [
    "def Analytic_Forward(sigma1, sigma2, sigma3, thick1, thick2, height=height):\n",
    "    # Returns apparent conductivity for each coil geometry and separation\n",
    "    \n",
    "    sigma1 = sigma1/1000\n",
    "    sigma2 = sigma2/1000\n",
    "    sigma3 = sigma3/1000\n",
    "    \n",
    "    surface = 0\n",
    "    depth = [surface, thick1, thick1 + thick2]\n",
    "    res_air = 2e14\n",
    "    res = [res_air, 1/sigma1, 1/sigma2, 1/sigma3]\n",
    "    HCP_Hs = empymod.loop(Hsource, Hreceivers, depth, res, freq, xdirect=None, mrec = 'loop', verb=0)\n",
    "    VCP_Hs = empymod.loop(Vsource, Vreceivers, depth, res, freq, xdirect=None, mrec = 'loop', verb=0)\n",
    "    PRP_Hs = empymod.dipole(Psource, Preceivers, depth, res, freq, ab = 64, xdirect = None, verb = 0)\n",
    "\n",
    "    HCP_Hp = empymod.loop(Hsource, Hreceivers, depth=[], res=[res_air], freqtime=freq, mrec = 'loop', verb=0)\n",
    "    VCP_Hp = empymod.loop(Vsource, Vreceivers, depth=[], res=[res_air], freqtime=freq, mrec = 'loop', verb=0)\n",
    "    PRP_Hp = empymod.dipole(Psource, Preceivers, depth=[], res=[res_air], freqtime = freq, ab = 66, verb = 0)\n",
    "\n",
    "    Q_HCP = -np.imag(HCP_Hs/HCP_Hp)\n",
    "    Q_VCP = np.imag(VCP_Hs/VCP_Hp)\n",
    "    Q_PRP = np.imag(PRP_Hs/PRP_Hp)\n",
    "\n",
    "    P_HCP = -np.real(HCP_Hs/HCP_Hp)\n",
    "    P_VCP = np.real(VCP_Hs/VCP_Hp)\n",
    "    P_PRP = np.real(PRP_Hs/PRP_Hp)\n",
    "\n",
    "    return np.hstack((Q_HCP, Q_VCP, Q_PRP, P_HCP, P_VCP, P_PRP))\n",
    "   "
   ]
  },
  {
   "cell_type": "code",
   "execution_count": 6,
   "id": "f70d4f6f-b297-44d4-a4fa-92be319ba1b2",
   "metadata": {},
   "outputs": [
    {
     "data": {
      "text/plain": [
       "array([1.21929143e-03, 5.40544190e-03, 1.75851040e-02, 9.25515771e-04,\n",
       "       4.48127736e-03, 1.89188839e-02, 9.41243616e-04, 4.96579818e-03,\n",
       "       2.29058781e-02, 5.39001618e-05, 4.02443856e-04, 2.78912278e-03,\n",
       "       2.74078669e-05, 2.09054767e-04, 1.54604383e-03, 6.61920244e-06,\n",
       "       8.12614401e-05, 8.76345539e-04])"
      ]
     },
     "execution_count": 6,
     "metadata": {},
     "output_type": "execute_result"
    }
   ],
   "source": [
    "sigma1, sigma2, sigma3 = 10, 50, 10\n",
    "thick1, thick2 = 2, 2\n",
    "\n",
    "Analytic_Forward(sigma1, sigma2, sigma3, thick1, thick2)"
   ]
  },
  {
   "cell_type": "code",
   "execution_count": 7,
   "id": "9391b941-7df3-46f7-b447-0c0b83420f61",
   "metadata": {},
   "outputs": [],
   "source": [
    "# parameters for the synthetic model\n",
    "\n",
    "nlayer = 3 # number of layer\n",
    "npos = 20 # number of sampling positions\n",
    "\n",
    "sig_ini = [10, 50, 10]\n",
    "sigmas = np.ones((npos, nlayer))*sig_ini\n",
    "x = np.linspace(0, 20, npos)[:,None]\n",
    "thk1 = np.ones_like(x)*2 # wave\n",
    "thk2 = 0.1 + x/5    # wave\n",
    "depthmax = 10\n",
    "ny = 50"
   ]
  },
  {
   "cell_type": "code",
   "execution_count": 8,
   "id": "d8d06345-a0ed-4f22-b6fd-a2dcf892b594",
   "metadata": {},
   "outputs": [],
   "source": [
    "# Arrays for plotting\n",
    "y = np.linspace(0, depthmax, ny)\n",
    "xx = np.linspace(0,npos+1,npos+1, endpoint=False) # For step plot\n",
    "\n",
    "def PlotModel(thk1, thk2, sigmas, npos, ny, Model, vmin=5, vmax=60):\n",
    "    surface = np.zeros(npos)\n",
    "    depth = np.zeros((npos,4))\n",
    "\n",
    "    # Depths to be plotted\n",
    "    for i in range(npos):\n",
    "        depth[i,0] = 0\n",
    "        depth[i,1] = thk1[i]\n",
    "        depth[i,2] = thk1[i] + thk2[i]\n",
    "        depth[i,3] = thk1[i] + thk2[i]\n",
    "        \n",
    "    sigy = np.zeros((npos, ny))\n",
    "\n",
    "    # Conductivities array to be plotted\n",
    "    for i in range(npos):\n",
    "        y1=0\n",
    "        while y[y1] <= depth[i, 1]:\n",
    "            sigy[i, y1] = sigmas[i, 0]\n",
    "            y1 += 1\n",
    "            y2=y1\n",
    "        while y[y2] <= depth[i, 2]:\n",
    "            sigy[i, y2] = sigmas[i, 1]\n",
    "            y2 += 1\n",
    "            if y2 == 50:\n",
    "                break\n",
    "        sigy[i, y2:] = sigmas[i, 2]\n",
    "        \n",
    "    fig, ax = plt.subplots()\n",
    "    pos = ax.imshow(sigy.T, cmap='viridis', interpolation='none', extent=[0,npos,10,0], vmin =vmin, vmax=vmax)\n",
    "    clb = fig.colorbar(pos, shrink=0.5)\n",
    "    clb.set_label('Conductivity [mS/m]',  )\n",
    "    ax.set_ylabel('Depth [m]')\n",
    "    ax.set_xlabel('Position [m]')\n",
    "    ax.set_title(Model)\n",
    "        \n",
    "    return depth, sigy"
   ]
  },
  {
   "cell_type": "code",
   "execution_count": 9,
   "id": "7e20fd71-2d99-4908-b774-7be69c9ae44d",
   "metadata": {},
   "outputs": [
    {
     "data": {
      "text/plain": [
       "[<matplotlib.lines.Line2D at 0x7f4270f5d190>]"
      ]
     },
     "execution_count": 9,
     "metadata": {},
     "output_type": "execute_result"
    },
    {
     "data": {
      "image/png": "[encoded data removed]",
      "text/plain": [
       "<Figure size 640x480 with 2 Axes>"
      ]
     },
     "metadata": {},
     "output_type": "display_data"
    }
   ],
   "source": [
    "#Plot synthetic model\n",
    "\n",
    "depth, sigy = PlotModel(thk1, thk2, sigmas, npos, ny, 'Synthetic Model')\n",
    "\n",
    "plt.step(np.hstack((xx, xx[-1])), np.hstack((depth[0,1],depth[:,1],depth[-1,1])), 'r')\n",
    "plt.step(np.hstack((xx, xx[-1])), np.hstack((depth[0,1],depth[:,2],depth[-1,2])),'r')"
   ]
  },
  {
   "cell_type": "code",
   "execution_count": 10,
   "id": "b67d3623-1890-40fd-b26d-d3e187b088f0",
   "metadata": {},
   "outputs": [],
   "source": [
    "# Create empty array for true data in each position\n",
    "data = []\n",
    "\n",
    "for i in range(npos):\n",
    "    model_i = np.hstack((sigmas[i], thk1[i], thk2[i])) # True model \n",
    "    data.append(Analytic_Forward(sigmas[i][0], sigmas[i][1], sigmas[i][2], thk1[i], thk2[i])) # creating data\n"
   ]
  },
  {
   "cell_type": "code",
   "execution_count": 11,
   "id": "6a182365-d715-416f-aad2-94121c3d1b92",
   "metadata": {},
   "outputs": [],
   "source": [
    "# Calculate normalization by coil and OP /IP\n",
    "\n",
    "data = np.array(data)\n",
    "\n",
    "# data shape is (npos, geometries * 2) \n",
    "\n",
    "Q_HCP_2 = data[:,0]\n",
    "Q_HCP_4 = data[:,1]\n",
    "Q_HCP_8 = data[:,2]\n",
    "Q_VCP_2 = data[:,3]\n",
    "Q_VCP_4 = data[:,4]\n",
    "Q_VCP_8 = data[:,5]\n",
    "Q_PRP_2 = data[:,6]\n",
    "Q_PRP_4 = data[:,7]\n",
    "Q_PRP_8 = data[:,8]\n",
    "\n",
    "P_HCP_2 = data[:,9]\n",
    "P_HCP_4 = data[:,10]\n",
    "P_HCP_8 = data[:,11]\n",
    "P_VCP_2 = data[:,12]\n",
    "P_VCP_4 = data[:,13]\n",
    "P_VCP_8 = data[:,14]\n",
    "P_PRP_2 = data[:,15]\n",
    "P_PRP_4 = data[:,16]\n",
    "P_PRP_8 = data[:,17]\n",
    "\n",
    "# Calculate L2 norm\n",
    "\n",
    "L2_Q_HCP_2 = np.sqrt(np.sum(Q_HCP_2**2))\n",
    "L2_Q_HCP_4 = np.sqrt(np.sum(Q_HCP_4**2))\n",
    "L2_Q_HCP_8 = np.sqrt(np.sum(Q_HCP_8**2))\n",
    "\n",
    "L2_Q_VCP_2 = np.sqrt(np.sum(Q_VCP_2**2))\n",
    "L2_Q_VCP_4 = np.sqrt(np.sum(Q_VCP_4**2))\n",
    "L2_Q_VCP_8 = np.sqrt(np.sum(Q_VCP_8**2))\n",
    "\n",
    "L2_Q_PRP_2 = np.sqrt(np.sum(Q_PRP_2**2))\n",
    "L2_Q_PRP_4 = np.sqrt(np.sum(Q_PRP_4**2))\n",
    "L2_Q_PRP_8 = np.sqrt(np.sum(Q_PRP_8**2))\n",
    "\n",
    "L2_P_HCP_2 = np.sqrt(np.sum(P_HCP_2**2))\n",
    "L2_P_HCP_4 = np.sqrt(np.sum(P_HCP_4**2))\n",
    "L2_P_HCP_8 = np.sqrt(np.sum(P_HCP_8**2))\n",
    "\n",
    "L2_P_VCP_2 = np.sqrt(np.sum(P_VCP_2**2))\n",
    "L2_P_VCP_4 = np.sqrt(np.sum(P_VCP_4**2))\n",
    "L2_P_VCP_8 = np.sqrt(np.sum(P_VCP_8**2))\n",
    "\n",
    "L2_P_PRP_2 = np.sqrt(np.sum(P_PRP_2**2))\n",
    "L2_P_PRP_4 = np.sqrt(np.sum(P_PRP_4**2))\n",
    "L2_P_PRP_8 = np.sqrt(np.sum(P_PRP_8**2))\n",
    "\n",
    "L2_Q_HCP = np.hstack((L2_Q_HCP_2, L2_Q_HCP_4, L2_Q_HCP_8))\n",
    "L2_Q_VCP = np.hstack((L2_Q_VCP_2, L2_Q_VCP_4, L2_Q_VCP_8))\n",
    "L2_Q_PRP = np.hstack((L2_Q_PRP_2, L2_Q_PRP_4, L2_Q_PRP_8))\n",
    "\n",
    "L2_P_HCP = np.hstack((L2_P_HCP_2, L2_P_HCP_4, L2_P_HCP_8))\n",
    "L2_P_VCP = np.hstack((L2_P_VCP_2, L2_P_VCP_4, L2_P_VCP_8))\n",
    "L2_P_PRP = np.hstack((L2_P_PRP_2, L2_P_PRP_4, L2_P_PRP_8))\n",
    "\n",
    "L2 = np.stack((L2_Q_HCP, L2_Q_VCP, L2_Q_PRP, L2_P_HCP, L2_P_VCP, L2_P_PRP))"
   ]
  },
  {
   "cell_type": "code",
   "execution_count": 12,
   "id": "3a2d34d6-3fae-4be8-b610-428958a0f981",
   "metadata": {},
   "outputs": [],
   "source": [
    "def Analytic_Forward_norm(sigma1, sigma2, sigma3, thick1, thick2, height=height):\n",
    "    # Returns apparent conductivity for each coil geometry and separation\n",
    "    \n",
    "    sigma1 = sigma1/1000\n",
    "    sigma2 = sigma2/1000\n",
    "    sigma3 = sigma3/1000\n",
    "    \n",
    "    surface = 0\n",
    "    depth = [surface, thick1, thick1 + thick2]\n",
    "    res_air = 2e14\n",
    "    res = [res_air, 1/sigma1, 1/sigma2, 1/sigma3]\n",
    "    HCP_Hs = empymod.loop(Hsource, Hreceivers, depth, res, freq, xdirect=None, mrec = 'loop', verb=0)\n",
    "    VCP_Hs = empymod.loop(Vsource, Vreceivers, depth, res, freq, xdirect=None, mrec = 'loop', verb=0)\n",
    "    PRP_Hs = empymod.dipole(Psource, Preceivers, depth, res, freq, ab = 64, xdirect = None, verb = 0)\n",
    "\n",
    "    HCP_Hp = empymod.loop(Hsource, Hreceivers, depth=[], res=[res_air], freqtime=freq, mrec = 'loop', verb=0)\n",
    "    VCP_Hp = empymod.loop(Vsource, Vreceivers, depth=[], res=[res_air], freqtime=freq, mrec = 'loop', verb=0)\n",
    "    PRP_Hp = empymod.dipole(Psource, Preceivers, depth=[], res=[res_air], freqtime = freq, ab = 66, verb = 0)\n",
    "   \n",
    "    Q_HCP = -np.imag(HCP_Hs/HCP_Hp)/L2[0]\n",
    "    Q_VCP = np.imag(VCP_Hs/VCP_Hp)/L2[1]\n",
    "    Q_PRP = np.imag(PRP_Hs/PRP_Hp)/L2[2]\n",
    "\n",
    "    P_HCP = -np.real(HCP_Hs/HCP_Hp)/L2[3]\n",
    "    P_VCP = np.real(VCP_Hs/VCP_Hp)/L2[4]\n",
    "    P_PRP = np.real(PRP_Hs/PRP_Hp)/L2[5]\n",
    "    \n",
    "    return np.hstack((Q_HCP, Q_VCP, Q_PRP, P_HCP, P_VCP, P_PRP))"
   ]
  },
  {
   "cell_type": "code",
   "execution_count": 48,
   "id": "6aad7c89-d29c-461d-a3cb-a7b527eca2df",
   "metadata": {},
   "outputs": [],
   "source": [
    "class Analytic(pg.Modelling):\n",
    "    \n",
    "    def __init__(self):\n",
    "        \"\"\"Initialize the model.\"\"\"\n",
    "        super().__init__()\n",
    "        \n",
    "    def response(self, x):\n",
    "        \n",
    "        sigma1 = x[0]\n",
    "        sigma2 = x[1]\n",
    "        sigma3 = x[2]\n",
    "        thick1 = x[3]\n",
    "        thick2 = x[4]\n",
    "        \n",
    "        Z = Analytic_Forward_norm(sigma1, sigma2, sigma3, thick1, thick2)\n",
    "\n",
    "        return Z\n",
    "        \n",
    "    def createStartModel(self, dataVals):\n",
    "        \n",
    "        thk_ini = [2, 2]\n",
    "        sig_ini = [10, 10, 10]\n",
    "        x0 = sig_ini + thk_ini\n",
    "        return np.array(x0)"
   ]
  },
  {
   "cell_type": "code",
   "execution_count": 49,
   "id": "7a95738e-1be4-4070-8bb9-3168a9c0f24c",
   "metadata": {},
   "outputs": [],
   "source": [
    "# Define inversion transformations\n",
    "\n",
    "transData = pg.trans.TransLin() # log transformation for data\n",
    "transModel = pg.trans.TransLog() # log-transform ensures thk>0\n",
    "\n",
    "ANAf = Analytic()\n",
    "inv_Ana = pg.Inversion()\n",
    "inv_Ana.setForwardOperator(ANAf)\n",
    "\n",
    "inv_Ana.transModel = transModel\n",
    "inv_Ana.transData = transData"
   ]
  },
  {
   "cell_type": "code",
   "execution_count": 50,
   "id": "ca924ef1-b64d-453e-9a0c-ff4733f2d80d",
   "metadata": {},
   "outputs": [],
   "source": [
    "# Inputs for inversion:\n",
    "\n",
    "# Create empty array for true model in each position\n",
    "model = []\n",
    "\n",
    "# Create empty array for true data in each position\n",
    "data_norm = []\n",
    "\n",
    "for i in range(npos):\n",
    "    model_i = np.hstack((sigmas[i], thk1[i], thk2[i])) # True model \n",
    "    model.append(model_i)\n",
    "    data_norm.append(Analytic_Forward_norm(sigmas[i][0], sigmas[i][1], sigmas[i][2], thk1[i], thk2[i])) # creating data\n",
    "\n",
    "# Relative error array\n",
    "error = 1e-2 # introduce here the error you want to test\n",
    "relativeError = np.ones_like(data_norm[0]) * error"
   ]
  },
  {
   "cell_type": "code",
   "execution_count": 51,
   "id": "718e271c-05f7-4f04-89d7-113adbd9efde",
   "metadata": {},
   "outputs": [
    {
     "name": "stderr",
     "output_type": "stream",
     "text": [
      "01/12/22 - 14:52:15 - pyGIMLi - \u001b[0;32;49mINFO\u001b[0m - Created startmodel from forward operator: [10 10 10  2  2]\n",
      "01/12/22 - 14:52:16 - pyGIMLi - \u001b[0;32;49mINFO\u001b[0m - Created startmodel from forward operator: [10 10 10  2  2]\n",
      "01/12/22 - 14:52:16 - pyGIMLi - \u001b[0;32;49mINFO\u001b[0m - Created startmodel from forward operator: [10 10 10  2  2]\n"
     ]
    },
    {
     "name": "stdout",
     "output_type": "stream",
     "text": [
      "\n",
      "\n"
     ]
    },
    {
     "name": "stderr",
     "output_type": "stream",
     "text": [
      "01/12/22 - 14:52:16 - pyGIMLi - \u001b[0;32;49mINFO\u001b[0m - Created startmodel from forward operator: [10 10 10  2  2]\n"
     ]
    },
    {
     "name": "stdout",
     "output_type": "stream",
     "text": [
      "\n",
      "\n"
     ]
    },
    {
     "name": "stderr",
     "output_type": "stream",
     "text": [
      "01/12/22 - 14:52:17 - pyGIMLi - \u001b[0;32;49mINFO\u001b[0m - Created startmodel from forward operator: [10 10 10  2  2]\n"
     ]
    },
    {
     "name": "stdout",
     "output_type": "stream",
     "text": [
      "\n",
      "\n"
     ]
    },
    {
     "name": "stderr",
     "output_type": "stream",
     "text": [
      "01/12/22 - 14:52:17 - pyGIMLi - \u001b[0;32;49mINFO\u001b[0m - Created startmodel from forward operator: [10 10 10  2  2]\n"
     ]
    },
    {
     "name": "stdout",
     "output_type": "stream",
     "text": [
      "\n",
      "\n"
     ]
    },
    {
     "name": "stderr",
     "output_type": "stream",
     "text": [
      "01/12/22 - 14:52:18 - pyGIMLi - \u001b[0;32;49mINFO\u001b[0m - Created startmodel from forward operator: [10 10 10  2  2]\n",
      "01/12/22 - 14:52:18 - pyGIMLi - \u001b[0;32;49mINFO\u001b[0m - Created startmodel from forward operator: [10 10 10  2  2]\n"
     ]
    },
    {
     "name": "stdout",
     "output_type": "stream",
     "text": [
      "\n",
      "\n"
     ]
    },
    {
     "name": "stderr",
     "output_type": "stream",
     "text": [
      "01/12/22 - 14:52:20 - pyGIMLi - \u001b[0;32;49mINFO\u001b[0m - Created startmodel from forward operator: [10 10 10  2  2]\n",
      "01/12/22 - 14:52:21 - pyGIMLi - \u001b[0;32;49mINFO\u001b[0m - Created startmodel from forward operator: [10 10 10  2  2]\n"
     ]
    },
    {
     "name": "stdout",
     "output_type": "stream",
     "text": [
      "\n",
      "\n"
     ]
    },
    {
     "name": "stderr",
     "output_type": "stream",
     "text": [
      "01/12/22 - 14:52:21 - pyGIMLi - \u001b[0;32;49mINFO\u001b[0m - Created startmodel from forward operator: [10 10 10  2  2]\n"
     ]
    },
    {
     "name": "stdout",
     "output_type": "stream",
     "text": [
      "\n",
      "\n"
     ]
    },
    {
     "name": "stderr",
     "output_type": "stream",
     "text": [
      "01/12/22 - 14:52:22 - pyGIMLi - \u001b[0;32;49mINFO\u001b[0m - Created startmodel from forward operator: [10 10 10  2  2]\n"
     ]
    },
    {
     "name": "stdout",
     "output_type": "stream",
     "text": [
      "\n",
      "\n"
     ]
    },
    {
     "name": "stderr",
     "output_type": "stream",
     "text": [
      "01/12/22 - 14:52:23 - pyGIMLi - \u001b[0;32;49mINFO\u001b[0m - Created startmodel from forward operator: [10 10 10  2  2]\n"
     ]
    },
    {
     "name": "stdout",
     "output_type": "stream",
     "text": [
      "\n",
      "\n"
     ]
    },
    {
     "name": "stderr",
     "output_type": "stream",
     "text": [
      "01/12/22 - 14:52:24 - pyGIMLi - \u001b[0;32;49mINFO\u001b[0m - Created startmodel from forward operator: [10 10 10  2  2]\n"
     ]
    },
    {
     "name": "stdout",
     "output_type": "stream",
     "text": [
      "\n",
      "\n"
     ]
    },
    {
     "name": "stderr",
     "output_type": "stream",
     "text": [
      "01/12/22 - 14:52:24 - pyGIMLi - \u001b[0;32;49mINFO\u001b[0m - Created startmodel from forward operator: [10 10 10  2  2]\n"
     ]
    },
    {
     "name": "stdout",
     "output_type": "stream",
     "text": [
      "\n",
      "\n"
     ]
    },
    {
     "name": "stderr",
     "output_type": "stream",
     "text": [
      "01/12/22 - 14:52:25 - pyGIMLi - \u001b[0;32;49mINFO\u001b[0m - Created startmodel from forward operator: [10 10 10  2  2]\n"
     ]
    },
    {
     "name": "stdout",
     "output_type": "stream",
     "text": [
      "\n",
      "\n"
     ]
    },
    {
     "name": "stderr",
     "output_type": "stream",
     "text": [
      "01/12/22 - 14:52:26 - pyGIMLi - \u001b[0;32;49mINFO\u001b[0m - Created startmodel from forward operator: [10 10 10  2  2]\n"
     ]
    },
    {
     "name": "stdout",
     "output_type": "stream",
     "text": [
      "\n",
      "\n"
     ]
    },
    {
     "name": "stderr",
     "output_type": "stream",
     "text": [
      "01/12/22 - 14:52:27 - pyGIMLi - \u001b[0;32;49mINFO\u001b[0m - Created startmodel from forward operator: [10 10 10  2  2]\n"
     ]
    },
    {
     "name": "stdout",
     "output_type": "stream",
     "text": [
      "\n",
      "\n"
     ]
    },
    {
     "name": "stderr",
     "output_type": "stream",
     "text": [
      "01/12/22 - 14:52:28 - pyGIMLi - \u001b[0;32;49mINFO\u001b[0m - Created startmodel from forward operator: [10 10 10  2  2]\n"
     ]
    },
    {
     "name": "stdout",
     "output_type": "stream",
     "text": [
      "\n",
      "\n"
     ]
    },
    {
     "name": "stderr",
     "output_type": "stream",
     "text": [
      "01/12/22 - 14:52:29 - pyGIMLi - \u001b[0;32;49mINFO\u001b[0m - Created startmodel from forward operator: [10 10 10  2  2]\n"
     ]
    },
    {
     "name": "stdout",
     "output_type": "stream",
     "text": [
      "\n",
      "\n",
      "\n",
      "\n"
     ]
    }
   ],
   "source": [
    "# Start inversion\n",
    "\n",
    "model_est_list =[] # empty array to store the model estimated\n",
    "\n",
    "for i in range(npos):\n",
    "    \n",
    "    dataE = data_norm[i].copy()\n",
    "    dataE *= np.random.randn(len(dataE)) * relativeError + 1.0\n",
    "\n",
    "    model_est = inv_Ana.run(dataE, relativeError, verbose=False, lam=1, maxIter=40)\n",
    "    \n",
    "    model_est_list.append(model_est)\n",
    "\n",
    "# Model estimation array    \n",
    "model_est_arr_ANA = np.array(model_est_list)"
   ]
  },
  {
   "cell_type": "code",
   "execution_count": 52,
   "id": "a159ba3e-cfb8-4b6a-8c9a-815498fa2e70",
   "metadata": {},
   "outputs": [
    {
     "data": {
      "text/plain": [
       "[<matplotlib.lines.Line2D at 0x7f426ff879a0>]"
      ]
     },
     "execution_count": 52,
     "metadata": {},
     "output_type": "execute_result"
    },
    {
     "data": {
      "image/png": "[encoded data removed]",
      "text/plain": [
       "<Figure size 640x480 with 2 Axes>"
      ]
     },
     "metadata": {},
     "output_type": "display_data"
    }
   ],
   "source": [
    "# Plot estimated model with LIN Approx\n",
    "\n",
    "depth_,sigyANA = PlotModel(model_est_arr_ANA[:,3], model_est_arr_ANA[:,4], model_est_arr_ANA[:,:3] , npos, ny,\n",
    "                                 'Estimated Model ' + str(error*100) + ' % error')\n",
    "plt.step(np.hstack((xx, xx[-1])), np.hstack((depth[0,1],depth[:,1],depth[-1,1])), 'r')\n",
    "plt.step(np.hstack((xx, xx[-1])), np.hstack((depth[0,1],depth[:,2],depth[-1,2])), 'r')"
   ]
  },
  {
   "cell_type": "code",
   "execution_count": 53,
   "id": "e2a874e5-5629-4559-b7a9-c083c65d2bce",
   "metadata": {},
   "outputs": [],
   "source": [
    "# Plot Real data versus estimated model data\n",
    "\n",
    "# Create empty array for true data in each position\n",
    "data_ANA_est = []\n",
    "\n",
    "data_HCP2m_Q=[]\n",
    "data_HCP4m_Q=[]\n",
    "data_HCP8m_Q=[]\n",
    "data_VCP2m_Q=[]\n",
    "data_VCP4m_Q=[]\n",
    "data_VCP8m_Q=[]\n",
    "data_PRP2m_Q=[]\n",
    "data_PRP4m_Q=[]\n",
    "data_PRP8m_Q=[]\n",
    "\n",
    "data_HCP2m_P=[]\n",
    "data_HCP4m_P=[]\n",
    "data_HCP8m_P=[]\n",
    "data_VCP2m_P=[]\n",
    "data_VCP4m_P=[]\n",
    "data_VCP8m_P=[]\n",
    "data_PRP2m_P=[]\n",
    "data_PRP4m_P=[]\n",
    "data_PRP8m_P=[]\n",
    "\n",
    "data_HCP2m_Q_est=[]\n",
    "data_HCP4m_Q_est=[]\n",
    "data_HCP8m_Q_est=[]\n",
    "data_VCP2m_Q_est=[]\n",
    "data_VCP4m_Q_est=[]\n",
    "data_VCP8m_Q_est=[]\n",
    "data_PRP2m_Q_est=[]\n",
    "data_PRP4m_Q_est=[]\n",
    "data_PRP8m_Q_est=[]\n",
    "\n",
    "data_HCP2m_P_est=[]\n",
    "data_HCP4m_P_est=[]\n",
    "data_HCP8m_P_est=[]\n",
    "data_VCP2m_P_est=[]\n",
    "data_VCP4m_P_est=[]\n",
    "data_VCP8m_P_est=[]\n",
    "data_PRP2m_P_est=[]\n",
    "data_PRP4m_P_est=[]\n",
    "data_PRP8m_P_est=[]\n",
    "\n",
    "for i in range(npos):\n",
    "    model_i = model_est_arr_ANA[i] # True model \n",
    "    data_ANA_est.append(ANAf(model_i)) # creating data\n",
    "    \n",
    "    data_HCP2m_Q.append(data_norm[i][0])\n",
    "    data_HCP4m_Q.append(data_norm[i][1])\n",
    "    data_HCP8m_Q.append(data_norm[i][2])\n",
    "    data_VCP2m_Q.append(data_norm[i][3])\n",
    "    data_VCP4m_Q.append(data_norm[i][4])\n",
    "    data_VCP8m_Q.append(data_norm[i][5])\n",
    "    data_PRP2m_Q.append(data_norm[i][6])\n",
    "    data_PRP4m_Q.append(data_norm[i][7])\n",
    "    data_PRP8m_Q.append(data_norm[i][8])\n",
    "    data_HCP2m_P.append(data_norm[i][9])\n",
    "    data_HCP4m_P.append(data_norm[i][10])\n",
    "    data_HCP8m_P.append(data_norm[i][11])\n",
    "    data_VCP2m_P.append(data_norm[i][12])\n",
    "    data_VCP4m_P.append(data_norm[i][13])\n",
    "    data_VCP8m_P.append(data_norm[i][14])\n",
    "    data_PRP2m_P.append(data_norm[i][15])\n",
    "    data_PRP4m_P.append(data_norm[i][16])\n",
    "    data_PRP8m_P.append(data_norm[i][17])\n",
    "    \n",
    "    data_HCP2m_Q_est.append(data_ANA_est[i][0])\n",
    "    data_HCP4m_Q_est.append(data_ANA_est[i][1])\n",
    "    data_HCP8m_Q_est.append(data_ANA_est[i][2])\n",
    "    data_VCP2m_Q_est.append(data_ANA_est[i][3])\n",
    "    data_VCP4m_Q_est.append(data_ANA_est[i][4])\n",
    "    data_VCP8m_Q_est.append(data_ANA_est[i][5])\n",
    "    data_PRP2m_Q_est.append(data_ANA_est[i][6])\n",
    "    data_PRP4m_Q_est.append(data_ANA_est[i][7])\n",
    "    data_PRP8m_Q_est.append(data_ANA_est[i][8])\n",
    "    data_HCP2m_P_est.append(data_ANA_est[i][9])\n",
    "    data_HCP4m_P_est.append(data_ANA_est[i][10])\n",
    "    data_HCP8m_P_est.append(data_ANA_est[i][11])\n",
    "    data_VCP2m_P_est.append(data_ANA_est[i][12])\n",
    "    data_VCP4m_P_est.append(data_ANA_est[i][13])\n",
    "    data_VCP8m_P_est.append(data_ANA_est[i][14])\n",
    "    data_PRP2m_P_est.append(data_ANA_est[i][15])\n",
    "    data_PRP4m_P_est.append(data_ANA_est[i][16])\n",
    "    data_PRP8m_P_est.append(data_ANA_est[i][17])\n",
    "\n"
   ]
  },
  {
   "cell_type": "code",
   "execution_count": 54,
   "id": "cecf54cb-83e4-43c5-ac32-d82413e27fe4",
   "metadata": {},
   "outputs": [
    {
     "data": {
      "image/png": "[encoded data removed]",
      "text/plain": [
       "<Figure size 640x480 with 3 Axes>"
      ]
     },
     "metadata": {},
     "output_type": "display_data"
    }
   ],
   "source": [
    "fig, (ax1, ax2, ax3) = plt.subplots(1,3, sharey=True)\n",
    "\n",
    "ax1.plot(data_HCP2m_Q, '.k' , label = '2m')\n",
    "ax1.plot(data_HCP2m_Q_est, '.b', label = '2m est')\n",
    "ax1.plot(data_HCP4m_Q, 'ok' , label = '4m')\n",
    "ax1.plot(data_HCP4m_Q_est, 'ob', label = '4m est')\n",
    "ax1.plot(data_HCP8m_Q, '*k' , label = '8m')\n",
    "ax1.plot(data_HCP8m_Q_est, '*b', label = '8m est')\n",
    "ax1.set_xlabel('X Position')\n",
    "ax1.set_ylabel('Quadrature')\n",
    "ax1.set_title('HCP')\n",
    "#ax1.legend(bbox_to_anchor=(1.05, 1.0), loc='upper left')\n",
    "\n",
    "ax2.plot(data_VCP2m_Q, '.k' , label = '2m')\n",
    "ax2.plot(data_VCP2m_Q_est, '.b', label = '2m est')\n",
    "ax2.plot(data_VCP4m_Q, 'ok' , label = '4m')\n",
    "ax2.plot(data_VCP4m_Q_est, 'ob', label = '4m est')\n",
    "ax2.plot(data_VCP8m_Q, '*k' , label = '8m')\n",
    "ax2.plot(data_VCP8m_Q_est, '*b', label = '8m est')\n",
    "ax2.set_xlabel('X Position')\n",
    "#ax2.set_ylabel('Quadrature')\n",
    "ax2.set_title('VCP')\n",
    "\n",
    "ax3.plot(data_PRP2m_Q, '.k' , label = '2m')\n",
    "ax3.plot(data_PRP2m_Q_est, '.b', label = '2m est')\n",
    "ax3.plot(data_PRP4m_Q, 'ok' , label = '4m')\n",
    "ax3.plot(data_PRP4m_Q_est, 'ob', label = '4m est')\n",
    "ax3.plot(data_PRP8m_Q, '*k' , label = '8m')\n",
    "ax3.plot(data_PRP8m_Q_est, '*b', label = '8m est')\n",
    "ax3.set_xlabel('X Position')\n",
    "#ax3.set_ylabel('Quadrature')\n",
    "ax3.set_title('PRP')\n",
    "ax3.legend(bbox_to_anchor=(1.05, 1.0), loc='upper left')\n",
    "\n",
    "plt.tight_layout()\n"
   ]
  },
  {
   "cell_type": "code",
   "execution_count": 55,
   "id": "fa79a6b4-7855-48ea-8b6d-0a52ee22ead9",
   "metadata": {},
   "outputs": [
    {
     "data": {
      "image/png": "[encoded data removed]",
      "text/plain": [
       "<Figure size 640x480 with 3 Axes>"
      ]
     },
     "metadata": {},
     "output_type": "display_data"
    }
   ],
   "source": [
    "fig, (ax1, ax2, ax3) = plt.subplots(1,3, sharey=True)\n",
    "\n",
    "ax1.plot(data_HCP2m_P, '.k' , label = '2m')\n",
    "ax1.plot(data_HCP2m_P_est, '.b', label = '2m est')\n",
    "ax1.plot(data_HCP4m_P, 'ok' , label = '4m')\n",
    "ax1.plot(data_HCP4m_P_est, 'ob', label = '4m est')\n",
    "ax1.plot(data_HCP8m_P, '*k' , label = '8m')\n",
    "ax1.plot(data_HCP8m_P_est, '*b', label = '8m est')\n",
    "ax1.set_xlabel('X Position')\n",
    "ax1.set_ylabel('Phase')\n",
    "ax1.set_title('HCP')\n",
    "\n",
    "ax2.plot(data_VCP2m_P, '.k' , label = '2m')\n",
    "ax2.plot(data_VCP2m_P_est, '.b', label = '2m est')\n",
    "ax2.plot(data_VCP4m_P, 'ok' , label = '4m')\n",
    "ax2.plot(data_VCP4m_P_est, 'ob', label = '4m est')\n",
    "ax2.plot(data_VCP8m_P, '*k' , label = '8m')\n",
    "ax2.plot(data_VCP8m_P_est, '*b', label = '8m est')\n",
    "ax2.set_xlabel('X Position')\n",
    "ax2.set_ylabel('Phase')\n",
    "ax2.set_title('VCP')\n",
    "\n",
    "ax3.plot(data_PRP2m_P, '.k' , label = '2m')\n",
    "ax3.plot(data_PRP2m_P_est, '.b', label = '2m est')\n",
    "ax3.plot(data_PRP4m_P, 'ok' , label = '4m')\n",
    "ax3.plot(data_PRP4m_P_est, 'ob', label = '4m est')\n",
    "ax3.plot(data_PRP8m_P, '*k' , label = '8m')\n",
    "ax3.plot(data_PRP8m_P_est, '*b', label = '8m est')\n",
    "ax3.set_xlabel('X Position')\n",
    "ax3.set_ylabel('Phase')\n",
    "ax3.set_title('PRP')\n",
    "ax3.legend(bbox_to_anchor=(1.05, 1.0), loc='upper left')\n",
    "\n",
    "plt.tight_layout()"
   ]
  },
  {
   "cell_type": "code",
   "execution_count": null,
   "id": "7e56c3f3-5f53-4dbf-8ef3-b36d536fe88f",
   "metadata": {},
   "outputs": [],
   "source": []
  }
 ],
 "metadata": {
  "kernelspec": {
   "display_name": "pg",
   "language": "python",
   "name": "pg"
  },
  "language_info": {
   "codemirror_mode": {
    "name": "ipython",
    "version": 3
   },
   "file_extension": ".py",
   "mimetype": "text/x-python",
   "name": "python",
   "nbconvert_exporter": "python",
   "pygments_lexer": "ipython3",
   "version": "3.9.15"
  }
 },
 "nbformat": 4,
 "nbformat_minor": 5
}
