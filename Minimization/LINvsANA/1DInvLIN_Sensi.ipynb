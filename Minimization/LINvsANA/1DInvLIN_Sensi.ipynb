{
 "cells": [
  {
   "cell_type": "markdown",
   "id": "a51a91a3-a5f5-4001-b80a-18646c072faf",
   "metadata": {},
   "source": [
    "# 1D EM Inversion\n",
    "## LIN Approximation\n",
    "### Sensitivity to $\\sigma$ example"
   ]
  },
  {
   "cell_type": "code",
   "execution_count": 1,
   "id": "39b53bca-ffbb-42d5-91ef-bf70e620931f",
   "metadata": {},
   "outputs": [],
   "source": [
    "import numpy as np\n",
    "import empymod\n",
    "import matplotlib.pyplot as plt\n",
    "from scipy.constants import mu_0\n",
    "import pygimli as pg"
   ]
  },
  {
   "cell_type": "code",
   "execution_count": 2,
   "id": "7bdbd600-8765-4153-80bf-690df3825a7d",
   "metadata": {},
   "outputs": [],
   "source": [
    "# Receivers geometry\n",
    "\n",
    "offsets = np.array([2, 4, 8]) # in meters\n",
    "height = 0.10 # meter height from ground surface to center of coil\n",
    "rad = 0.08 # Define radius of coil\n",
    "\n",
    "# For HCP\n",
    "Hsource = [-rad, rad, -rad, rad, -height, -height]\n",
    "Hreceivers =[offsets-rad, offsets+rad, np.ones(3)*-rad, np.ones(3)*rad, -height, -height]\n",
    "\n",
    "# For VCP\n",
    "Vsource = [0, 0, -height, 90, 0]\n",
    "Vreceivers = [offsets, offsets*0, -height, 90, 0]\n",
    "\n",
    "# For PRP\n",
    "Psource = [0, 0, height]\n",
    "Preceivers = [offsets, offsets*0, height]\n",
    "\n",
    "# Frequency\n",
    "freq = 9000"
   ]
  },
  {
   "cell_type": "code",
   "execution_count": 3,
   "id": "6741fc5d-f939-4077-b3a6-f0c1c5c1f126",
   "metadata": {},
   "outputs": [],
   "source": [
    "# Define cummulative sensitivity functions\n",
    "\n",
    "# z is the normalized depth with respect to coil separation (depth/coil sep)\n",
    "\n",
    "def CS_PRP(z):\n",
    "    CS = 2*z / (np.sqrt(4 * z**2 + 1))\n",
    "    return CS\n",
    "    \n",
    "def CS_HCP(z):\n",
    "    CS = 1 - 1/(np.sqrt(4 * z**2 + 1))\n",
    "    return CS\n",
    "    \n",
    "def CS_VCP(z):\n",
    "    CS = 1 - (np.sqrt(4 * z**2 + 1) - 2*z)\n",
    "    return CS\n",
    "\n",
    "# LIN approximation function\n",
    "# Calculates an apparent conductivity from Quadrature values\n",
    "def Sigma_from_Q(Q, freq, mu_0, s):\n",
    "    sigma_app = 4 * Q / ((2 * np.pi * freq) * mu_0 * s**2)\n",
    "    return sigma_app\n",
    "\n",
    "def Q_from_Sigma(sigma, freq, mu_0, s):\n",
    "    Q = sigma * (2 *np.pi * freq) * mu_0 * s**2 /4\n",
    "    return Q"
   ]
  },
  {
   "cell_type": "code",
   "execution_count": 4,
   "id": "2663b028-8e67-457f-99ac-0b260102deb2",
   "metadata": {},
   "outputs": [],
   "source": [
    "# Define forward function\n",
    "\n",
    "# Parameters: 3 conductivities, 2 thicknesses\n",
    "\n",
    "def LIN_Forward(sigma1, sigma2, sigma3, thick1, thick2, height=height):\n",
    "    # returns apparent conductivities for each coil geometry and separation\n",
    "    # height represents separation of coils from ground surface\n",
    "    \n",
    "    sigma1 = sigma1/1000\n",
    "    sigma2 = sigma2/1000\n",
    "    sigma3 = sigma3/1000\n",
    "    \n",
    "    Q_HCP = []\n",
    "    Q_VCP = []\n",
    "    Q_PRP = []\n",
    "    \n",
    "    for coil in offsets:\n",
    "        # Calculate apparent conductivity PRP geometry\n",
    "        sig_app_PRP = sigma1 * (CS_PRP((height + thick1)/coil) - CS_PRP(height/coil)) \\\n",
    "                    + sigma2 * (CS_PRP((height + thick1 + thick2)/coil) - CS_PRP((height + thick1)/coil)) \\\n",
    "                    + sigma3 * (1 - CS_PRP((height + thick1 + thick2)/coil))\n",
    "\n",
    "        # Calculate apparent conductivity HCP geometry\n",
    "        sig_app_HCP = sigma1 * (CS_HCP((height + thick1)/coil) - CS_HCP(height/coil)) \\\n",
    "                    + sigma2 * (CS_HCP((height + thick1 + thick2)/coil) - CS_HCP((height + thick1)/coil)) \\\n",
    "                    + sigma3 * (1 - CS_HCP((height + thick1 + thick2)/coil))\n",
    "\n",
    "        # Calculate apparent conductivity VCP geometry\n",
    "        sig_app_VCP = sigma1 * (CS_VCP((height + thick1)/coil) - CS_VCP(height/coil)) \\\n",
    "                    + sigma2 * (CS_VCP((height + thick1 + thick2)/coil) - CS_VCP((height + thick1)/coil)) \\\n",
    "                    + sigma3 * (1 - CS_VCP((height + thick1 + thick2)/coil))\n",
    "                \n",
    "        Q_HCP.append(Q_from_Sigma(sig_app_HCP, freq, mu_0, coil))\n",
    "        Q_VCP.append(Q_from_Sigma(sig_app_VCP, freq, mu_0, coil))\n",
    "        Q_PRP.append(Q_from_Sigma(sig_app_PRP, freq, mu_0, coil))\n",
    "        \n",
    "    # Normalize the coil distances\n",
    "    Q_HCP[0] = Q_HCP[0]*16\n",
    "    Q_HCP[1] = Q_HCP[1]*4\n",
    "    Q_VCP[0] = Q_VCP[0]*16\n",
    "    Q_VCP[1] = Q_VCP[1]*4\n",
    "    Q_PRP[0] = Q_PRP[0]*16\n",
    "    Q_PRP[1] = Q_PRP[1]*4\n",
    "            \n",
    "    return np.hstack((Q_HCP, Q_VCP, Q_PRP))"
   ]
  },
  {
   "cell_type": "markdown",
   "id": "5b07a627-b168-43f1-ba86-1abe7f890a4c",
   "metadata": {},
   "source": [
    "## Compare with empymod"
   ]
  },
  {
   "cell_type": "code",
   "execution_count": 5,
   "id": "5636d7a0-90ad-468b-ac86-69e760c1feb2",
   "metadata": {},
   "outputs": [],
   "source": [
    "def Analytic_Forward(sigma1, sigma2, sigma3, thick1, thick2, height=height):\n",
    "    # Returns apparent conductivity for each coil geometry and separation\n",
    "    \n",
    "    sigma1 = sigma1/1000\n",
    "    sigma2 = sigma2/1000\n",
    "    sigma3 = sigma3/1000\n",
    "    \n",
    "    surface = 0\n",
    "    depth = [surface, thick1, thick1 + thick2]\n",
    "    res_air = 2e14\n",
    "    res = [res_air, 1/sigma1, 1/sigma2, 1/sigma3]\n",
    "    HCP_Hs = empymod.loop(Hsource, Hreceivers, depth, res, freq, xdirect=None, mrec = 'loop', verb=0)\n",
    "    VCP_Hs = empymod.loop(Vsource, Vreceivers, depth, res, freq, xdirect=None, mrec = 'loop', verb=0)\n",
    "    PRP_Hs = empymod.dipole(Psource, Preceivers, depth, res, freq, ab = 64, xdirect = None, verb = 0)\n",
    "\n",
    "    HCP_Hp = empymod.loop(Hsource, Hreceivers, depth=[], res=[res_air], freqtime=freq, mrec = 'loop', verb=0)\n",
    "    VCP_Hp = empymod.loop(Vsource, Vreceivers, depth=[], res=[res_air], freqtime=freq, mrec = 'loop', verb=0)\n",
    "    PRP_Hp = empymod.dipole(Psource, Preceivers, depth=[], res=[res_air], freqtime = freq, ab = 66, verb = 0)\n",
    "\n",
    "    Q_HCP = np.abs(np.imag(HCP_Hs/HCP_Hp))\n",
    "    Q_VCP = np.abs(np.imag(VCP_Hs/VCP_Hp))\n",
    "    Q_PRP = np.abs(np.imag(PRP_Hs/PRP_Hp))\n",
    "\n",
    "    P_HCP = np.abs(np.real(HCP_Hs/HCP_Hp))\n",
    "    P_VCP = np.abs(np.real(VCP_Hs/VCP_Hp))\n",
    "    P_PRP = np.abs(np.real(PRP_Hs/PRP_Hp))\n",
    "    \n",
    "    # Normalize values by distance\n",
    "    \n",
    "    Q_HCP[0] = Q_HCP[0]*16\n",
    "    Q_HCP[1] = Q_HCP[1]*4\n",
    "    Q_VCP[0] = Q_VCP[0]*16\n",
    "    Q_VCP[1] = Q_VCP[1]*4\n",
    "    Q_PRP[0] = Q_PRP[0]*16\n",
    "    Q_PRP[1] = Q_PRP[1]*4\n",
    "\n",
    "    return np.hstack((Q_HCP, Q_VCP, Q_PRP))"
   ]
  },
  {
   "cell_type": "code",
   "execution_count": 6,
   "id": "7e3d2e15-0052-41d5-be46-164062f2f265",
   "metadata": {},
   "outputs": [],
   "source": [
    "sigma1 = 20\n",
    "sigma2 = 80\n",
    "sigma3 = 20\n",
    "thick1 = 2\n",
    "thick2 = 2"
   ]
  },
  {
   "cell_type": "code",
   "execution_count": 7,
   "id": "67ddc961-da08-417e-bc7e-a46016ce87cd",
   "metadata": {},
   "outputs": [
    {
     "data": {
      "text/plain": [
       "array([0.03579138, 0.03984989, 0.03549442, 0.02779323, 0.03316685,\n",
       "       0.03564697, 0.02516078, 0.03351708, 0.03929061])"
      ]
     },
     "execution_count": 7,
     "metadata": {},
     "output_type": "execute_result"
    }
   ],
   "source": [
    "LIN_Forward(sigma1, sigma2, sigma3, thick1, thick2)"
   ]
  },
  {
   "cell_type": "code",
   "execution_count": 8,
   "id": "e7515362-746c-426c-85ab-da80feb0de33",
   "metadata": {},
   "outputs": [
    {
     "data": {
      "text/plain": [
       "array([0.03413457, 0.03655039, 0.02900923, 0.02696412, 0.03151193,\n",
       "       0.03237209, 0.02614741, 0.03515299, 0.039883  ])"
      ]
     },
     "execution_count": 8,
     "metadata": {},
     "output_type": "execute_result"
    }
   ],
   "source": [
    "Analytic_Forward(sigma1, sigma2, sigma3, thick1, thick2)"
   ]
  },
  {
   "cell_type": "markdown",
   "id": "665cff9d-8057-4079-a7b6-6159296cb069",
   "metadata": {},
   "source": [
    "## Create forward modeller classes for both methods"
   ]
  },
  {
   "cell_type": "code",
   "execution_count": 29,
   "id": "a262abad-5915-4f37-9339-34019208a888",
   "metadata": {},
   "outputs": [],
   "source": [
    "class LIN_Approx(pg.Modelling):\n",
    "    \n",
    "    def __init__(self):\n",
    "        \"\"\"Initialize the model.\"\"\"\n",
    "        super().__init__()\n",
    "        \n",
    "    def response(self, x):\n",
    "        \n",
    "        sigma1 = x[0]\n",
    "        sigma2 = x[1]\n",
    "        sigma3 = x[2]\n",
    "        thick1 = x[3]\n",
    "        thick2 = x[4]\n",
    "        \n",
    "        Q = LIN_Forward(sigma1, sigma2, sigma3, thick1, thick2)\n",
    "\n",
    "        return Q\n",
    "        \n",
    "    def createStartModel(self, dataVals):\n",
    "        \n",
    "        thk_ini = [2, 2]\n",
    "        sig_ini = [10, 10, 10]\n",
    "        x0 = sig_ini + thk_ini\n",
    "        return np.array(x0)\n",
    "    \n"
   ]
  },
  {
   "cell_type": "markdown",
   "id": "b4cc227e-75a7-4780-a9c5-a77c01a05829",
   "metadata": {},
   "source": [
    "## Define initial model"
   ]
  },
  {
   "cell_type": "code",
   "execution_count": 30,
   "id": "a9551a9b-4652-4a86-acec-ff5682302565",
   "metadata": {},
   "outputs": [],
   "source": [
    "# parameters for the synthetic model\n",
    "\n",
    "nlayer = 3 # number of layer\n",
    "npos = 20 # number of sampling positions\n",
    "\n",
    "sig_ini = [10, 50, 10]\n",
    "sigmas = np.ones((npos, nlayer))*sig_ini\n",
    "x = np.linspace(0, 20, npos)[:,None]\n",
    "thk1 = np.ones_like(x)*2 # wave\n",
    "thk2 = np.ones_like(x)*2    # wave\n",
    "depthmax = 10\n",
    "ny = 50\n",
    "sig_mid_lay = np.linspace(10, 50, npos)[:, None]\n",
    "\n",
    "for i in range(npos):\n",
    "    sigmas[i][1] = sig_mid_lay[i]"
   ]
  },
  {
   "cell_type": "code",
   "execution_count": 31,
   "id": "c2996278-68f5-49fa-9133-cc4cf915c752",
   "metadata": {},
   "outputs": [],
   "source": [
    "# Arrays for plotting\n",
    "y = np.linspace(0, depthmax, ny)\n",
    "xx = np.linspace(0,npos+1,npos+1, endpoint=False) # For step plot\n",
    "\n",
    "def PlotModel(thk1, thk2, sigmas, npos, ny, Model, vmin=5, vmax=60):\n",
    "    surface = np.zeros(npos)\n",
    "    depth = np.zeros((npos,4))\n",
    "\n",
    "    # Depths to be plotted\n",
    "    for i in range(npos):\n",
    "        depth[i,0] = 0\n",
    "        depth[i,1] = thk1[i]\n",
    "        depth[i,2] = thk1[i] + thk2[i]\n",
    "        depth[i,3] = thk1[i] + thk2[i]\n",
    "        \n",
    "    sigy = np.zeros((npos, ny))\n",
    "\n",
    "    # Conductivities array to be plotted\n",
    "    for i in range(npos):\n",
    "        y1=0\n",
    "        while y[y1] <= depth[i, 1]:\n",
    "            sigy[i, y1] = sigmas[i, 0]\n",
    "            y1 += 1\n",
    "            y2=y1\n",
    "        while y[y2] <= depth[i, 2]:\n",
    "            sigy[i, y2] = sigmas[i, 1]\n",
    "            y2 += 1\n",
    "            if y2 == 50:\n",
    "                break\n",
    "        sigy[i, y2:] = sigmas[i, 2]\n",
    "        \n",
    "    fig, ax = plt.subplots()\n",
    "    pos = ax.imshow(sigy.T, cmap='viridis', interpolation='none', extent=[0,npos,10,0], vmin =vmin, vmax=vmax)\n",
    "    clb = fig.colorbar(pos, shrink=0.5)\n",
    "    clb.set_label('Conductivity [mS/m]',  )\n",
    "    ax.set_ylabel('Depth [m]')\n",
    "    ax.set_xlabel('Position [m]')\n",
    "    ax.set_title(Model)\n",
    "        \n",
    "    return depth, sigy"
   ]
  },
  {
   "cell_type": "code",
   "execution_count": 32,
   "id": "866e0f29-0bbc-450d-adc7-011295609d45",
   "metadata": {},
   "outputs": [
    {
     "data": {
      "text/plain": [
       "[<matplotlib.lines.Line2D at 0x7f5611baf3a0>]"
      ]
     },
     "execution_count": 32,
     "metadata": {},
     "output_type": "execute_result"
    },
    {
     "data": {
      "image/png": "[encoded data removed]",
      "text/plain": [
       "<Figure size 640x480 with 2 Axes>"
      ]
     },
     "metadata": {},
     "output_type": "display_data"
    }
   ],
   "source": [
    "#Plot synthetic model\n",
    "\n",
    "depth, sigy = PlotModel(thk1, thk2, sigmas, npos, ny, 'Synthetic Model')\n",
    "\n",
    "plt.step(np.hstack((xx, xx[-1])), np.hstack((depth[0,1],depth[:,1],depth[-1,1])), 'r')\n",
    "plt.step(np.hstack((xx, xx[-1])), np.hstack((depth[0,1],depth[:,2],depth[-1,2])),'r')\n"
   ]
  },
  {
   "cell_type": "markdown",
   "id": "3e4ade49-d80f-495f-9ec8-8b7b16534725",
   "metadata": {},
   "source": [
    "## Define inversion"
   ]
  },
  {
   "cell_type": "code",
   "execution_count": 33,
   "id": "5e0a4092-049d-4633-8b0a-40b1e5769eea",
   "metadata": {},
   "outputs": [],
   "source": [
    "# Define inversion transformations\n",
    "\n",
    "transData = pg.trans.TransLog() # log transformation for data\n",
    "transModel = pg.trans.TransLog() # log-transform ensures thk>0\n",
    "\n",
    "# Create inversion\n",
    "\n",
    "LINf = LIN_Approx()\n",
    "inv_LIN = pg.Inversion()\n",
    "inv_LIN.setForwardOperator(LINf)\n",
    "#inv_LIN.setDeltaPhiStop(0.01)\n",
    "#inv_LIN.stopAtChi1=False\n",
    "\n",
    "inv_LIN.transModel = transModel\n",
    "inv_LIN.transData = transData\n",
    "\n",
    "\n"
   ]
  },
  {
   "cell_type": "code",
   "execution_count": 34,
   "id": "a2e66439-d7f3-4ec3-aa8d-8b8486070617",
   "metadata": {},
   "outputs": [],
   "source": [
    "# Inputs for inversion:\n",
    "\n",
    "# Create empty array for true model in each position\n",
    "model = []\n",
    "\n",
    "# Create empty array for true data in each position\n",
    "data = []\n",
    "\n",
    "for i in range(npos):\n",
    "    model_i = np.hstack((sigmas[i], thk1[i], thk2[i])) # True model \n",
    "    model.append(model_i)\n",
    "    data.append(Analytic_Forward(sigmas[i][0], sigmas[i][1], sigmas[i][2], thk1[i], thk2[i])) # creating data\n",
    "\n",
    "# Relative error array\n",
    "error = 1e-2 # introduce here the error you want to test\n",
    "relativeError = np.ones_like(data[0]) * error"
   ]
  },
  {
   "cell_type": "markdown",
   "id": "c3166958-cc71-49d7-b78c-11865cd48777",
   "metadata": {},
   "source": [
    "## Start Inversion with LIN Approximation"
   ]
  },
  {
   "cell_type": "code",
   "execution_count": 35,
   "id": "7ace5f81-244f-4763-a193-13d51c174a3a",
   "metadata": {},
   "outputs": [
    {
     "name": "stderr",
     "output_type": "stream",
     "text": [
      "11/11/22 - 15:10:55 - pyGIMLi - \u001b[0;32;49mINFO\u001b[0m - Created startmodel from forward operator: [10 10 10  2  2]\n",
      "11/11/22 - 15:10:55 - pyGIMLi - \u001b[0;32;49mINFO\u001b[0m - Created startmodel from forward operator: [10 10 10  2  2]\n",
      "11/11/22 - 15:10:55 - pyGIMLi - \u001b[0;32;49mINFO\u001b[0m - Created startmodel from forward operator: [10 10 10  2  2]\n",
      "11/11/22 - 15:10:55 - pyGIMLi - \u001b[0;32;49mINFO\u001b[0m - Created startmodel from forward operator: [10 10 10  2  2]\n",
      "11/11/22 - 15:10:55 - pyGIMLi - \u001b[0;32;49mINFO\u001b[0m - Created startmodel from forward operator: [10 10 10  2  2]\n",
      "11/11/22 - 15:10:55 - pyGIMLi - \u001b[0;32;49mINFO\u001b[0m - Created startmodel from forward operator: [10 10 10  2  2]\n",
      "11/11/22 - 15:10:55 - pyGIMLi - \u001b[0;32;49mINFO\u001b[0m - Created startmodel from forward operator: [10 10 10  2  2]\n"
     ]
    },
    {
     "name": "stdout",
     "output_type": "stream",
     "text": [
      "\n",
      "\n",
      "\n",
      "\n",
      "\n",
      "\n"
     ]
    },
    {
     "name": "stderr",
     "output_type": "stream",
     "text": [
      "11/11/22 - 15:10:55 - pyGIMLi - \u001b[0;32;49mINFO\u001b[0m - Created startmodel from forward operator: [10 10 10  2  2]\n",
      "11/11/22 - 15:10:55 - pyGIMLi - \u001b[0;32;49mINFO\u001b[0m - Created startmodel from forward operator: [10 10 10  2  2]\n",
      "11/11/22 - 15:10:55 - pyGIMLi - \u001b[0;32;49mINFO\u001b[0m - Created startmodel from forward operator: [10 10 10  2  2]\n",
      "11/11/22 - 15:10:55 - pyGIMLi - \u001b[0;32;49mINFO\u001b[0m - Created startmodel from forward operator: [10 10 10  2  2]\n",
      "11/11/22 - 15:10:55 - pyGIMLi - \u001b[0;32;49mINFO\u001b[0m - Created startmodel from forward operator: [10 10 10  2  2]\n",
      "11/11/22 - 15:10:55 - pyGIMLi - \u001b[0;32;49mINFO\u001b[0m - Created startmodel from forward operator: [10 10 10  2  2]\n",
      "11/11/22 - 15:10:55 - pyGIMLi - \u001b[0;32;49mINFO\u001b[0m - Created startmodel from forward operator: [10 10 10  2  2]\n",
      "11/11/22 - 15:10:55 - pyGIMLi - \u001b[0;32;49mINFO\u001b[0m - Created startmodel from forward operator: [10 10 10  2  2]\n"
     ]
    },
    {
     "name": "stdout",
     "output_type": "stream",
     "text": [
      "\n",
      "\n"
     ]
    },
    {
     "name": "stderr",
     "output_type": "stream",
     "text": [
      "11/11/22 - 15:10:55 - pyGIMLi - \u001b[0;32;49mINFO\u001b[0m - Created startmodel from forward operator: [10 10 10  2  2]\n",
      "11/11/22 - 15:10:55 - pyGIMLi - \u001b[0;32;49mINFO\u001b[0m - Created startmodel from forward operator: [10 10 10  2  2]\n",
      "11/11/22 - 15:10:55 - pyGIMLi - \u001b[0;32;49mINFO\u001b[0m - Created startmodel from forward operator: [10 10 10  2  2]\n",
      "11/11/22 - 15:10:55 - pyGIMLi - \u001b[0;32;49mINFO\u001b[0m - Created startmodel from forward operator: [10 10 10  2  2]\n",
      "11/11/22 - 15:10:55 - pyGIMLi - \u001b[0;32;49mINFO\u001b[0m - Created startmodel from forward operator: [10 10 10  2  2]\n"
     ]
    }
   ],
   "source": [
    "# Start inversion\n",
    "\n",
    "model_est_list =[] # empty array to store the model estimated\n",
    "\n",
    "for i in range(npos):\n",
    "    \n",
    "    dataE = data[i].copy()\n",
    "    dataE *= np.random.randn(len(dataE)) * relativeError + 1.0\n",
    "\n",
    "    model_est = inv_LIN.run(dataE, relativeError, verbose=False, lam=1, maxIter=40, dPhi=0.01)\n",
    "    \n",
    "    model_est_list.append(model_est)\n",
    "\n",
    "# Model estimation array    \n",
    "model_est_arr_LIN = np.array(model_est_list)"
   ]
  },
  {
   "cell_type": "code",
   "execution_count": 36,
   "id": "5f2b9ada-d964-4b6a-9ba6-0594446b4055",
   "metadata": {},
   "outputs": [
    {
     "data": {
      "text/plain": [
       "[<matplotlib.lines.Line2D at 0x7f5611bbb7c0>]"
      ]
     },
     "execution_count": 36,
     "metadata": {},
     "output_type": "execute_result"
    },
    {
     "data": {
      "image/png": "[encoded data removed]",
      "text/plain": [
       "<Figure size 640x480 with 2 Axes>"
      ]
     },
     "metadata": {},
     "output_type": "display_data"
    }
   ],
   "source": [
    "# Plot estimated model with LIN Approx\n",
    "\n",
    "depth_,sigyLIN = PlotModel(model_est_arr_LIN[:,3], model_est_arr_LIN[:,4], model_est_arr_LIN[:,:3] , npos, ny,\n",
    "                                 'Estimated Model ' + str(error*100) + ' % error')\n",
    "plt.step(np.hstack((xx, xx[-1])), np.hstack((depth[0,1],depth[:,1],depth[-1,1])), 'r')\n",
    "plt.step(np.hstack((xx, xx[-1])), np.hstack((depth[0,1],depth[:,2],depth[-1,2])), 'r')\n"
   ]
  },
  {
   "cell_type": "code",
   "execution_count": 37,
   "id": "8da3619a-e9d8-46e9-824a-d3ecdf892c4b",
   "metadata": {},
   "outputs": [],
   "source": [
    "# Plot Real data versus estimated model data\n",
    "\n",
    "# Create empty array for true data in each position\n",
    "data_LIN_est = []\n",
    "\n",
    "data_HCP2m_Q=[]\n",
    "data_HCP4m_Q=[]\n",
    "data_HCP8m_Q=[]\n",
    "data_VCP2m_Q=[]\n",
    "data_VCP4m_Q=[]\n",
    "data_VCP8m_Q=[]\n",
    "data_PRP2m_Q=[]\n",
    "data_PRP4m_Q=[]\n",
    "data_PRP8m_Q=[]\n",
    "\n",
    "data_HCP2m_Q_est=[]\n",
    "data_HCP4m_Q_est=[]\n",
    "data_HCP8m_Q_est=[]\n",
    "data_VCP2m_Q_est=[]\n",
    "data_VCP4m_Q_est=[]\n",
    "data_VCP8m_Q_est=[]\n",
    "data_PRP2m_Q_est=[]\n",
    "data_PRP4m_Q_est=[]\n",
    "data_PRP8m_Q_est=[]\n",
    "\n",
    "for i in range(npos):\n",
    "    model_i = model_est_arr_LIN[i] # True model \n",
    "    data_LIN_est.append(LINf(model_i)) # creating data\n",
    "\n",
    "    data_HCP2m_Q.append(data[i][0])\n",
    "    data_HCP4m_Q.append(data[i][1])\n",
    "    data_HCP8m_Q.append(data[i][2])\n",
    "    data_VCP2m_Q.append(data[i][3])\n",
    "    data_VCP4m_Q.append(data[i][4])\n",
    "    data_VCP8m_Q.append(data[i][5])\n",
    "    data_PRP2m_Q.append(data[i][6])\n",
    "    data_PRP4m_Q.append(data[i][7])\n",
    "    data_PRP8m_Q.append(data[i][8])\n",
    "    \n",
    "    data_HCP2m_Q_est.append(data_LIN_est[i][0])\n",
    "    data_HCP4m_Q_est.append(data_LIN_est[i][1])\n",
    "    data_HCP8m_Q_est.append(data_LIN_est[i][2])\n",
    "    data_VCP2m_Q_est.append(data_LIN_est[i][3])\n",
    "    data_VCP4m_Q_est.append(data_LIN_est[i][4])\n",
    "    data_VCP8m_Q_est.append(data_LIN_est[i][5])\n",
    "    data_PRP2m_Q_est.append(data_LIN_est[i][6])\n",
    "    data_PRP4m_Q_est.append(data_LIN_est[i][7])\n",
    "    data_PRP8m_Q_est.append(data_LIN_est[i][8])\n",
    "    \n",
    "    \n"
   ]
  },
  {
   "cell_type": "code",
   "execution_count": 38,
   "id": "8c2df413-3572-4005-b258-ff89eb3cc84c",
   "metadata": {},
   "outputs": [
    {
     "data": {
      "image/png": "[encoded data removed]",
      "text/plain": [
       "<Figure size 640x480 with 3 Axes>"
      ]
     },
     "metadata": {},
     "output_type": "display_data"
    }
   ],
   "source": [
    "fig, (ax1, ax2, ax3) = plt.subplots(1,3, sharey=True)\n",
    "\n",
    "ax1.plot(data_HCP2m_Q, '.k' , label = '2m')\n",
    "ax1.plot(data_HCP2m_Q_est, '.b', label = '2m est')\n",
    "ax1.plot(data_HCP4m_Q, 'ok' , label = '4m')\n",
    "ax1.plot(data_HCP4m_Q_est, 'ob', label = '4m est')\n",
    "ax1.plot(data_HCP8m_Q, '*k' , label = '8m')\n",
    "ax1.plot(data_HCP8m_Q_est, '*b', label = '8m est')\n",
    "ax1.set_xlabel('X Position')\n",
    "ax1.set_ylabel('Quadrature')\n",
    "\n",
    "ax1.set_title('HCP')\n",
    "\n",
    "ax2.plot(data_VCP2m_Q, '.k' , label = '2m')\n",
    "ax2.plot(data_VCP2m_Q_est, '.b', label = '2m est')\n",
    "ax2.plot(data_VCP4m_Q, 'ok' , label = '4m')\n",
    "ax2.plot(data_VCP4m_Q_est, 'ob', label = '4m est')\n",
    "ax2.plot(data_VCP8m_Q, '*k' , label = '8m')\n",
    "ax2.plot(data_VCP8m_Q_est, '*b', label = '8m est')\n",
    "ax2.set_xlabel('X Position')\n",
    "#ax2.set_ylabel('Quadrature')\n",
    "ax2.set_title('VCP')\n",
    "\n",
    "ax3.plot(data_PRP2m_Q, '.k' , label = '2m')\n",
    "ax3.plot(data_PRP2m_Q_est, '.b', label = '2m est')\n",
    "ax3.plot(data_PRP4m_Q, 'ok' , label = '4m')\n",
    "ax3.plot(data_PRP4m_Q_est, 'ob', label = '4m est')\n",
    "ax3.plot(data_PRP8m_Q, '*k' , label = '8m')\n",
    "ax3.plot(data_PRP8m_Q_est, '*b', label = '8m est')\n",
    "ax3.set_xlabel('X Position')\n",
    "#ax3.set_ylabel('Quadrature')\n",
    "ax3.set_title('PRP')\n",
    "ax3.legend(bbox_to_anchor=(1.05, 1.0), loc='upper left')\n",
    "\n",
    "plt.tight_layout()"
   ]
  },
  {
   "cell_type": "code",
   "execution_count": null,
   "id": "18748ffb-efde-493a-a6da-1d8205fdb013",
   "metadata": {},
   "outputs": [],
   "source": []
  }
 ],
 "metadata": {
  "kernelspec": {
   "display_name": "pg",
   "language": "python",
   "name": "pg"
  },
  "language_info": {
   "codemirror_mode": {
    "name": "ipython",
    "version": 3
   },
   "file_extension": ".py",
   "mimetype": "text/x-python",
   "name": "python",
   "nbconvert_exporter": "python",
   "pygments_lexer": "ipython3",
   "version": "3.9.13"
  }
 },
 "nbformat": 4,
 "nbformat_minor": 5
}
