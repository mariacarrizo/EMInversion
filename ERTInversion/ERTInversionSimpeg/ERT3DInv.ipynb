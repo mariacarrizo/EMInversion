{
 "cells": [
  {
   "cell_type": "code",
   "execution_count": 1,
   "id": "265b82a0-ba0b-4882-b8a9-4c12815ee374",
   "metadata": {},
   "outputs": [],
   "source": [
    "import discretize\n",
    "from SimPEG import (\n",
    "    maps,\n",
    "    utils,\n",
    "    data_misfit,\n",
    "    regularization,\n",
    "    optimization,\n",
    "    inverse_problem,\n",
    "    directives,\n",
    "    inversion,\n",
    ")\n",
    "from SimPEG.electromagnetics.static import resistivity as DC, utils as DCutils\n",
    "import numpy as np\n",
    "import matplotlib.pyplot as plt\n",
    "\n",
    "try:\n",
    "    from pymatsolver import Pardiso as Solver\n",
    "except ImportError:\n",
    "    from SimPEG import SolverLU as Solver"
   ]
  },
  {
   "cell_type": "code",
   "execution_count": null,
   "id": "722e7509-a78c-40f3-a32d-0f6a3bf5933b",
   "metadata": {},
   "outputs": [],
   "source": [
    "# Load ERT Lines\n",
    "\n",
    "# From data must get different arrays for a, b, m, n, apparent resistivity values)"
   ]
  },
  {
   "cell_type": "code",
   "execution_count": null,
   "id": "8b07cba8-e45c-4449-85aa-c0a74bc8a181",
   "metadata": {},
   "outputs": [],
   "source": []
  }
 ],
 "metadata": {
  "kernelspec": {
   "display_name": "Python 3 (ipykernel)",
   "language": "python",
   "name": "python3"
  },
  "language_info": {
   "codemirror_mode": {
    "name": "ipython",
    "version": 3
   },
   "file_extension": ".py",
   "mimetype": "text/x-python",
   "name": "python",
   "nbconvert_exporter": "python",
   "pygments_lexer": "ipython3",
   "version": "3.9.12"
  }
 },
 "nbformat": 4,
 "nbformat_minor": 5
}
