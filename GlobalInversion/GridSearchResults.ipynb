{
 "cells": [
  {
   "cell_type": "code",
   "execution_count": null,
   "id": "1119c635",
   "metadata": {},
   "outputs": [],
   "source": [
    "# Global inversion with empymod\n",
    "\n",
    "#%matplotlib notebook"
   ]
  },
  {
   "cell_type": "markdown",
   "id": "d73d49f3",
   "metadata": {},
   "source": [
    "# Code for Global Inversion "
   ]
  },
  {
   "cell_type": "code",
   "execution_count": 1,
   "id": "57f1220a",
   "metadata": {},
   "outputs": [],
   "source": [
    "import empymod\n",
    "import numpy as np\n",
    "import matplotlib.pyplot as plt\n",
    "import time\n",
    "from joblib import Parallel, delayed"
   ]
  },
  {
   "cell_type": "markdown",
   "id": "3aa3ca00",
   "metadata": {},
   "source": [
    "Creating a synthetic model"
   ]
  },
  {
   "cell_type": "code",
   "execution_count": 2,
   "id": "637e7529",
   "metadata": {},
   "outputs": [],
   "source": [
    "# Receivers geometry\n",
    "\n",
    "offsets = np.array([2, 4, 8]) # in meters\n",
    "dip = np.array([0, 90])\n",
    "\n",
    "Hreceivers = [offsets, offsets*0, 0, 0, 0]\n",
    "Vreceivers = [offsets, offsets*0, 0, 0, 90]\n",
    "Preceivers = [offsets, offsets*0, 0, 90, 90]\n",
    "\n",
    "# Source geometry\n",
    "\n",
    "Hsource = [0, 0, 0 ,0 , 0]\n",
    "Vsource = [0, 0, 0, 0, 90]\n",
    "\n",
    "# Frequency\n",
    "\n",
    "freq = 9000"
   ]
  },
  {
   "cell_type": "code",
   "execution_count": 3,
   "id": "d756ab0f",
   "metadata": {},
   "outputs": [],
   "source": [
    "# parameters for the synthetic model\n",
    "\n",
    "nlayer = 3 # number of layer\n",
    "npos = 20 # number of sampling positions\n",
    "\n",
    "resistivities = [10,50,10]\n",
    "res = np.ones((npos, nlayer))*resistivities\n",
    "x = np.linspace(0, 20, npos)[:,None]\n",
    "thk1 = 2 + 0.2 * np.sin(x*np.pi*2) # wave\n",
    "thk2 = 2 + np.sin(x*np.pi*2) # wave\n",
    "depthmax = 10\n",
    "ny = 50"
   ]
  },
  {
   "cell_type": "code",
   "execution_count": 4,
   "id": "9cd38b01",
   "metadata": {},
   "outputs": [],
   "source": [
    "# Arrays for plotting\n",
    "y = np.linspace(0, depthmax, ny)\n",
    "xx = np.linspace(0,npos+1,npos+1, endpoint=False) # For step plot\n",
    "\n",
    "def PlotResistivities(thk1, thk2, res, npos, ny, Model):\n",
    "    surface = np.zeros(npos)\n",
    "    depth = np.zeros((npos,4))\n",
    "\n",
    "    # Depths to be plotted\n",
    "    for i in range(npos):\n",
    "        depth[i,0] = 0\n",
    "        depth[i,1] = thk1[i]\n",
    "        depth[i,2] = thk1[i] + thk2[i]\n",
    "        depth[i,3] = thk1[i] + thk2[i]\n",
    "        \n",
    "    resy = np.zeros((npos, ny))\n",
    "\n",
    "    # Resistivities array to be plotted\n",
    "    for i in range(npos):\n",
    "        y1=0\n",
    "        while y[y1] <= depth[i, 1]:\n",
    "            resy[i, y1] = res[i, 0]\n",
    "            y1 += 1\n",
    "            y2=y1\n",
    "        while y[y2] <= depth[i, 2]:\n",
    "            resy[i, y2] = res[i, 1]\n",
    "            y2 += 1\n",
    "            if y2 == 50:\n",
    "                break\n",
    "        resy[i, y2:] = res[i, 2]\n",
    "        \n",
    "    fig, ax = plt.subplots()\n",
    "    pos = ax.imshow(resy.T, cmap='viridis', interpolation='none', extent=[0,npos,10,0], vmin=1, vmax=100)\n",
    "    clb = fig.colorbar(pos, shrink=0.5)\n",
    "    clb.set_label('Resistivity [Ohm . m]',  )\n",
    "    ax.set_ylabel('Depth [m]')\n",
    "    ax.set_xlabel('Position [m]')\n",
    "    ax.set_title(Model)\n",
    "        \n",
    "    return depth, resy"
   ]
  },
  {
   "cell_type": "code",
   "execution_count": 5,
   "id": "3fe6dcb7",
   "metadata": {},
   "outputs": [
    {
     "data": {
      "text/plain": [
       "[<matplotlib.lines.Line2D at 0x7f91b0cd4b20>]"
      ]
     },
     "execution_count": 5,
     "metadata": {},
     "output_type": "execute_result"
    },
    {
     "data": {
      "image/png": "[encoded data removed]",
      "text/plain": [
       "<Figure size 640x480 with 2 Axes>"
      ]
     },
     "metadata": {},
     "output_type": "display_data"
    }
   ],
   "source": [
    "#Plot synthetic model\n",
    "\n",
    "depth, resy = PlotResistivities(thk1, thk2, res, npos, ny, 'Synthetic Model')\n",
    "\n",
    "plt.step(np.hstack((xx, xx[-1])), np.hstack((depth[0,1],depth[:,1],depth[-1,1])), 'r')\n",
    "plt.step(np.hstack((xx, xx[-1])), np.hstack((depth[0,1],depth[:,2],depth[-1,2])),'r')"
   ]
  },
  {
   "cell_type": "markdown",
   "id": "5a0ec67b",
   "metadata": {},
   "source": [
    "Define forward model function"
   ]
  },
  {
   "cell_type": "code",
   "execution_count": 6,
   "id": "1fd14904",
   "metadata": {},
   "outputs": [],
   "source": [
    "def EMforward(x):\n",
    "    # x is input model\n",
    "    surface = np.array([0])\n",
    "    thkx = np.array(x[0:2])\n",
    "    depthx = np.hstack((surface, thkx[0], thkx[0]+thkx[1]))\n",
    "    res_ground = np.array(x[2:])\n",
    "    res_air = np.array([2e14])\n",
    "    resx = np.hstack((res_air, res_ground))\n",
    "    HCP = empymod.loop(Hsource, Hreceivers, depthx, resx, freq, xdirect=None, mrec = 'loop', verb=0)\n",
    "    VCP = empymod.loop(Vsource, Vreceivers, depthx, resx, freq, xdirect=None, mrec = 'loop', verb=0)\n",
    "    PRP = empymod.loop(Hsource, Preceivers, depthx, resx, freq, xdirect=None, mrec = 'loop', verb=0)\n",
    "    Z = np.hstack((HCP, VCP, PRP))\n",
    "    return Z"
   ]
  },
  {
   "cell_type": "markdown",
   "id": "b210bee4",
   "metadata": {},
   "source": [
    "Load solutions hypercube"
   ]
  },
  {
   "cell_type": "code",
   "execution_count": 7,
   "id": "21eadee6",
   "metadata": {},
   "outputs": [],
   "source": [
    "Responses_0to11 = np.load('Results_is1_0to11.npy')\n",
    "Responses_11to21 = np.load('Results_is1_11to21.npy')\n"
   ]
  },
  {
   "cell_type": "code",
   "execution_count": 8,
   "id": "c98b42c0",
   "metadata": {},
   "outputs": [],
   "source": [
    "# Inputs for inversion:\n",
    "\n",
    "# Create empty array for true model in each position\n",
    "model = []\n",
    "\n",
    "# Create empty array for true data in each position\n",
    "data = []\n",
    "\n",
    "for i in range(npos):\n",
    "    model_i = np.array([thk1[i][0], thk2[i][0]]+resistivities) # True model \n",
    "    model.append(model_i)\n",
    "    data.append(EMforward(model_i)) # creating data\n",
    "\n",
    "# Relative error array\n",
    "error = 1e-3 # introduce here the error you want to test\n",
    "relativeError = np.ones_like(data[0]) * error"
   ]
  },
  {
   "cell_type": "code",
   "execution_count": 9,
   "id": "1f0fda50",
   "metadata": {},
   "outputs": [],
   "source": [
    "nsl = 21 # sampling number of the cube\n",
    "\n",
    "s0 = -2 # minimum conductivity in S/m\n",
    "s1 = -0.8 # maximum conductivity in S/m\n",
    "# conductivities array\n",
    "conds = np.logspace(s0, s1, nsl)\n",
    "\n",
    "th0 = 0.1 # minimum thickness in m\n",
    "th1 = 5   # maximum thickness in m\n",
    "# thickness array\n",
    "thicks = np.linspace(th0, th1, nsl)"
   ]
  },
  {
   "cell_type": "code",
   "execution_count": 10,
   "id": "2a1fb777",
   "metadata": {},
   "outputs": [],
   "source": [
    "def gridsearch(Zdata):    \n",
    "    err = 1\n",
    "    for i in range(len(Responses_0to11)):\n",
    "        Z = Responses_0to11[i]\n",
    "        nZdiff = np.abs(Z - Zdata) **2 / np.abs(Zdata)**2\n",
    "        #merr = np.log10(np.sqrt(np.sum(nZdiff)))\n",
    "        merr = np.sum(nZdiff)\n",
    "\n",
    "        if merr < err: \n",
    "            err = merr\n",
    "            ind = i\n",
    "    for i in range(len(Responses_11to21)):\n",
    "        Z = Responses_11to21[i]\n",
    "        nZdiff = np.abs(Z - Zdata) **2 / np.abs(Zdata)**2\n",
    "        #merr = np.log10(np.sqrt(np.sum(nZdiff)))\n",
    "        merr = np.sum(nZdiff)\n",
    "\n",
    "        if merr < err: \n",
    "            err = merr\n",
    "            ind = len(Responses_0to11) + i\n",
    "    #print('ind is:', ind)\n",
    "    return ind"
   ]
  },
  {
   "cell_type": "code",
   "execution_count": 11,
   "id": "274654a3-e4b6-411d-8512-c36c2fdc4d51",
   "metadata": {},
   "outputs": [],
   "source": [
    "def search_model(ind):\n",
    "    \n",
    "    for is1 in range(nsl):\n",
    "        for is2 in range(nsl):\n",
    "            for is3 in range(nsl):\n",
    "                for il1 in range(nsl):\n",
    "                    for il2 in range(nsl):\n",
    "                        i = il2+(il1)*nsl+(is3)*nsl**2+(is2)*nsl**3+(is1)*nsl**4\n",
    "                        if i == ind:\n",
    "                            #print('Found model')\n",
    "                            model = [thicks[il1], thicks[il2], 1/conds[is1], 1/conds[is2], 1/conds[is3]]\n",
    "                            return model              \n",
    "                    "
   ]
  },
  {
   "cell_type": "code",
   "execution_count": 12,
   "id": "2d01d789",
   "metadata": {},
   "outputs": [
    {
     "name": "stdout",
     "output_type": "stream",
     "text": [
      "ind is: 3433744\n",
      "Found model\n",
      "Estimated position  0\n",
      "ind is: 3433748\n",
      "Found model\n",
      "Estimated position  1\n",
      "ind is: 3433751\n",
      "Found model\n",
      "Estimated position  2\n",
      "ind is: 3424509\n",
      "Found model\n",
      "Estimated position  3\n",
      "ind is: 3424510\n",
      "Found model\n",
      "Estimated position  4\n",
      "ind is: 3424510\n",
      "Found model\n",
      "Estimated position  5\n",
      "ind is: 3424509\n",
      "Found model\n",
      "Estimated position  6\n",
      "ind is: 3424508\n",
      "Found model\n",
      "Estimated position  7\n",
      "ind is: 3433750\n",
      "Found model\n",
      "Estimated position  8\n",
      "ind is: 3433746\n",
      "Found model\n",
      "Estimated position  9\n",
      "ind is: 3442989\n",
      "Found model\n",
      "Estimated position  10\n",
      "ind is: 3443430\n",
      "Found model\n",
      "Estimated position  11\n",
      "ind is: 3443426\n",
      "Found model\n",
      "Estimated position  12\n",
      "ind is: 3452672\n",
      "Found model\n",
      "Estimated position  13\n",
      "ind is: 3452651\n",
      "Found model\n",
      "Estimated position  14\n",
      "ind is: 3452672\n",
      "Found model\n",
      "Estimated position  15\n",
      "ind is: 3452210\n",
      "Found model\n",
      "Estimated position  16\n",
      "ind is: 3443428\n",
      "Found model\n",
      "Estimated position  17\n",
      "ind is: 3443432\n",
      "Found model\n",
      "Estimated position  18\n",
      "ind is: 3433744\n",
      "Found model\n",
      "Estimated position  19\n",
      "Execution time in seconds: 1552.4223098754883\n"
     ]
    }
   ],
   "source": [
    "# Start inversion\n",
    "\n",
    "startTime = time.time()\n",
    "\n",
    "model_est_list =[] # empty array to store the model estimated\n",
    "\n",
    "for i in range(npos):\n",
    "    \n",
    "    dataE = np.array(data[i]).copy()\n",
    "    #dataE *= np.random.randn(len(dataE)) * relativeError + 1.0\n",
    "    \n",
    "    grid_i = gridsearch(dataE)\n",
    "\n",
    "    model_est = search_model(grid_i)\n",
    "    \n",
    "    model_est_list.append(model_est)\n",
    "    \n",
    "    print('Estimated position ', i)\n",
    "\n",
    "# Model estimation array    \n",
    "model_est_arr = np.array(model_est_list)\n",
    "\n",
    "executionTime = (time.time() - startTime)\n",
    "print('Execution time in seconds: ' + str(executionTime))"
   ]
  },
  {
   "cell_type": "code",
   "execution_count": 14,
   "id": "eabbe670",
   "metadata": {},
   "outputs": [
    {
     "data": {
      "text/plain": [
       "[<matplotlib.lines.Line2D at 0x7f918b03d760>]"
      ]
     },
     "execution_count": 14,
     "metadata": {},
     "output_type": "execute_result"
    },
    {
     "data": {
      "text/plain": [
       "<Figure size 640x480 with 0 Axes>"
      ]
     },
     "metadata": {},
     "output_type": "display_data"
    },
    {
     "data": {
      "image/png": "[encoded data removed]",
      "text/plain": [
       "<Figure size 640x480 with 2 Axes>"
      ]
     },
     "metadata": {},
     "output_type": "display_data"
    },
    {
     "data": {
      "text/plain": [
       "<Figure size 640x480 with 0 Axes>"
      ]
     },
     "metadata": {},
     "output_type": "display_data"
    },
    {
     "data": {
      "image/png": "[encoded data removed]",
      "text/plain": [
       "<Figure size 640x480 with 2 Axes>"
      ]
     },
     "metadata": {},
     "output_type": "display_data"
    }
   ],
   "source": [
    "#Plot synthetic model\n",
    "plt.figure()\n",
    "depth, resy = PlotResistivities(thk1, thk2, res, npos, ny, 'Synthetic Model')\n",
    "\n",
    "plt.step(np.hstack((xx, xx[-1])), np.hstack((depth[0,1],depth[:,1],depth[-1,1])), 'r')\n",
    "plt.step(np.hstack((xx, xx[-1])), np.hstack((depth[0,1],depth[:,2],depth[-1,2])),'r')\n",
    "\n",
    "# Plot estimated model\n",
    "plt.figure()\n",
    "depth_,resy_ = PlotResistivities(model_est_arr[:,0], model_est_arr[:,1], model_est_arr[:,2:] , npos, ny,\n",
    "                                 'Estimated Model ' + str(error*100) + ' % error')\n",
    "plt.step(np.hstack((xx, xx[-1])), np.hstack((depth[0,1],depth[:,1],depth[-1,1])), 'r')\n",
    "plt.step(np.hstack((xx, xx[-1])), np.hstack((depth[0,1],depth[:,2],depth[-1,2])), 'r')"
   ]
  },
  {
   "cell_type": "code",
   "execution_count": null,
   "id": "f7801524-8fb0-476b-a607-a760e7f1159c",
   "metadata": {},
   "outputs": [],
   "source": []
  },
  {
   "cell_type": "code",
   "execution_count": null,
   "id": "8cb4429f-e1ee-4538-9c74-e503b254ab81",
   "metadata": {},
   "outputs": [],
   "source": []
  }
 ],
 "metadata": {
  "kernelspec": {
   "display_name": "Python 3 (ipykernel)",
   "language": "python",
   "name": "python3"
  },
  "language_info": {
   "codemirror_mode": {
    "name": "ipython",
    "version": 3
   },
   "file_extension": ".py",
   "mimetype": "text/x-python",
   "name": "python",
   "nbconvert_exporter": "python",
   "pygments_lexer": "ipython3",
   "version": "3.8.10"
  }
 },
 "nbformat": 4,
 "nbformat_minor": 5
}
