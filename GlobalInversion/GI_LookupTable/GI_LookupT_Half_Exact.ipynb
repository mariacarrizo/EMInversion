{
 "cells": [
  {
   "cell_type": "markdown",
   "id": "9a604d49-549f-4328-af57-1534f0a4ca17",
   "metadata": {},
   "source": [
    "# Lookup table inversion\n",
    "## Using exact solution values\n",
    "### Halfspace case"
   ]
  },
  {
   "cell_type": "code",
   "execution_count": 1,
   "id": "199efcd8-830e-45db-86b3-a43948f63fd9",
   "metadata": {},
   "outputs": [],
   "source": [
    "import empymod\n",
    "import numpy as np\n",
    "import matplotlib.pyplot as plt\n",
    "import time\n",
    "from joblib import Parallel, delayed\n",
    "from scipy.constants import mu_0"
   ]
  },
  {
   "cell_type": "markdown",
   "id": "f15ca755-2bdf-4d59-8a2c-a98370d0acb9",
   "metadata": {},
   "source": [
    "### Define the geometry of device"
   ]
  },
  {
   "cell_type": "code",
   "execution_count": 6,
   "id": "ed4aede1-21f8-4a21-8f0f-5010dd9dbaf9",
   "metadata": {},
   "outputs": [],
   "source": [
    "# Define Dualem-482 geometry\n",
    "\n",
    "offsets = np.array([2, 4, 8]) # in meters\n",
    "height = -0.10 # meters height From ground surface to center of coils\n",
    "rad = 0.08 # Define radius of coil (8 cm)\n",
    "\n",
    "# Source and receivers geometry\n",
    "\n",
    "# For HCP\n",
    "Hsource = [-rad, rad, -rad, rad, height, height]\n",
    "Hreceivers = [offsets-rad, offsets+rad,\n",
    "              np.ones(3)*-rad, np.ones(3)*rad, height, height]\n",
    "\n",
    "# For VCP\n",
    "Vsource = [0, 0, height, 90, 0]\n",
    "Vreceivers = [offsets, offsets*0, height, 90, 0]\n",
    "\n",
    "# For PRP\n",
    "Psource = [0, 0, height]\n",
    "Preceivers = [offsets, offsets*0, height]\n",
    "\n",
    "# Frequency\n",
    "freq = 9000"
   ]
  },
  {
   "cell_type": "markdown",
   "id": "b66ff917-8adf-427d-88fd-af7e9513bbd1",
   "metadata": {},
   "source": [
    "### Define the properties of the models of the lookup table"
   ]
  },
  {
   "cell_type": "code",
   "execution_count": 10,
   "id": "7b3c59ff-a2a1-4b8e-82d6-7738f24a6f11",
   "metadata": {},
   "outputs": [],
   "source": [
    "# sampling of conductivities\n",
    "nsl = 81\n",
    "\n",
    "s0 = -4 # minimum conductivity in S/m\n",
    "s1 = -0.5 # maximum conductivity in S/m\n",
    "# conductivities array\n",
    "conds = np.logspace(s0, s1, nsl)"
   ]
  },
  {
   "cell_type": "code",
   "execution_count": 11,
   "id": "0691cbf5-b3ce-4a0b-ab38-4b3c5b53eba8",
   "metadata": {},
   "outputs": [],
   "source": [
    "def EMforward(sigma):\n",
    "    time.sleep(0.01)\n",
    "    \n",
    "    res =[2e14, 1/sigma]\n",
    "    depth=[0]\n",
    "\n",
    "    # Compute fields\n",
    "    HCP_Hs = empymod.loop(Hsource, Hreceivers, depth, res, freq, xdirect=None, mrec = 'loop', verb=0)\n",
    "    VCP_Hs = empymod.loop(Vsource, Vreceivers, depth, res, freq, xdirect=None, mrec = 'loop', verb=0)\n",
    "    PRP_Hs = empymod.dipole(Psource, Preceivers, depth, res, freq, ab=64, xdirect=None, verb=0)\n",
    "\n",
    "    HCP_Hp = empymod.loop(Hsource, Hreceivers, depth=[], res=[2e14], freqtime=freq, mrec = 'loop', verb=0)\n",
    "    VCP_Hp = empymod.loop(Vsource, Vreceivers, depth=[], res=[2e14], freqtime=freq, mrec = 'loop', verb=0)\n",
    "    PRP_Hp = empymod.dipole(Psource, Preceivers, depth=[], res=[2e14], freqtime=freq, ab=66, verb=0)\n",
    "\n",
    "    Q_HCP = np.abs(np.imag(HCP_Hs/HCP_Hp))\n",
    "    Q_VCP = np.abs(np.imag(VCP_Hs/VCP_Hp))\n",
    "    Q_PRP = np.abs(np.imag(PRP_Hs/PRP_Hp))\n",
    "    \n",
    "    P_HCP = np.abs(np.real(HCP_Hs/HCP_Hp))\n",
    "    P_VCP = np.abs(np.real(VCP_Hs/VCP_Hp))\n",
    "    P_PRP = np.abs(np.real(PRP_Hs/PRP_Hp))\n",
    "    \n",
    "    return np.hstack((Q_HCP, Q_VCP, Q_PRP, P_HCP, P_VCP, P_PRP))"
   ]
  },
  {
   "cell_type": "code",
   "execution_count": 12,
   "id": "053e6f8a-ec25-4f04-994d-7766943747c6",
   "metadata": {},
   "outputs": [
    {
     "name": "stderr",
     "output_type": "stream",
     "text": [
      "[Parallel(n_jobs=-1)]: Using backend LokyBackend with 8 concurrent workers.\n"
     ]
    },
    {
     "name": "stdout",
     "output_type": "stream",
     "text": [
      "Execution time in seconds: 0.45576953887939453\n"
     ]
    },
    {
     "name": "stderr",
     "output_type": "stream",
     "text": [
      "[Parallel(n_jobs=-1)]: Done  81 out of  81 | elapsed:    0.4s finished\n"
     ]
    }
   ],
   "source": [
    "startTime = time.time()\n",
    "\n",
    "Qexact = Parallel(n_jobs=-1,verbose=1)(delayed(EMforward)(sigma) for sigma in conds)\n",
    "\n",
    "executionTime = (time.time() - startTime)\n",
    "print('Execution time in seconds: ' + str(executionTime))"
   ]
  },
  {
   "cell_type": "markdown",
   "id": "68018e10-ba6a-4e3f-b535-d91f549ca1ae",
   "metadata": {},
   "source": [
    "### Define functions that search smallest error index"
   ]
  },
  {
   "cell_type": "code",
   "execution_count": 13,
   "id": "40c75853-549f-4ca4-a7dd-c964fc26d5ba",
   "metadata": {},
   "outputs": [],
   "source": [
    "def gridsearch(Qdata):\n",
    "    err = 1\n",
    "    indx=0\n",
    "    for i in range(np.shape(Qexact)[0]):\n",
    "        nZdiff = np.abs(Qexact[i] - Qdata) **2 / np.abs(Qdata)**2\n",
    "        merr = np.log(np.sqrt(np.sum(nZdiff)))\n",
    "        if merr < err:\n",
    "            indx = i\n",
    "            err = merr.copy()\n",
    "    return indx"
   ]
  },
  {
   "cell_type": "code",
   "execution_count": 18,
   "id": "98f42eae-52ad-4ea0-b70c-3d007680f3df",
   "metadata": {},
   "outputs": [],
   "source": [
    "# Inputs for inversion:\n",
    "\n",
    "# Create empty array for true model in each position\n",
    "model = []\n",
    "\n",
    "# Create empty array for true data in each position\n",
    "data=[]\n",
    "\n",
    "s0 = -4 # minimum conductivity in S/m\n",
    "s1 = -0.5 # maximum conductivity in S/m\n",
    "# conductivities array\n",
    "model_conds = np.logspace(s0, s1, nsl)\n",
    "\n",
    "for i in range(len(conds)):\n",
    "    model_i = model_conds[i] # True model \n",
    "    model.append(model_i)\n",
    "    data.append(EMforward(model_i)) # creating data"
   ]
  },
  {
   "cell_type": "code",
   "execution_count": 19,
   "id": "b3aa2c3d-7b69-4b82-96fe-e116ad6eab45",
   "metadata": {},
   "outputs": [
    {
     "name": "stderr",
     "output_type": "stream",
     "text": [
      "/tmp/ipykernel_966/3073962735.py:6: RuntimeWarning: divide by zero encountered in log\n",
      "  merr = np.log(np.sqrt(np.sum(nZdiff)))\n"
     ]
    }
   ],
   "source": [
    "# Start inversion\n",
    "\n",
    "model_est_list =[] # empty array to store the model estimated\n",
    "\n",
    "for i in range(len(conds)):   \n",
    "    dataE = np.array(data[i]).copy()\n",
    "    #dataE *= np.random.randn(len(dataE)) * relativeError + 1.0\n",
    "\n",
    "    model_est = conds[gridsearch(dataE)]\n",
    "    \n",
    "    model_est_list.append(model_est)\n",
    "\n",
    "# Model estimation array  \n",
    "model_est_arr = np.array(model_est_list)"
   ]
  },
  {
   "cell_type": "code",
   "execution_count": 20,
   "id": "9bf8f24b-5f47-4e56-8689-ac7102ecebc8",
   "metadata": {},
   "outputs": [
    {
     "data": {
      "text/plain": [
       "<matplotlib.legend.Legend at 0x7fc044d55790>"
      ]
     },
     "execution_count": 20,
     "metadata": {},
     "output_type": "execute_result"
    },
    {
     "data": {
      "image/png": "[encoded data removed]",
      "text/plain": [
       "<Figure size 640x480 with 1 Axes>"
      ]
     },
     "metadata": {},
     "output_type": "display_data"
    }
   ],
   "source": [
    "# Plot estimated model\n",
    "\n",
    "plt.plot(model_conds*1000, model_est_arr*1000, '.', label='Estimated')\n",
    "plt.plot(model_conds*1000, model_conds*1000, label = 'True')\n",
    "plt.xlabel('True Conductivity mS/m')\n",
    "plt.ylabel('Estimated conductivity mS/m')\n",
    "plt.legend()"
   ]
  },
  {
   "cell_type": "code",
   "execution_count": null,
   "id": "7f0ce15a-f815-4449-906f-e298c21a6d59",
   "metadata": {},
   "outputs": [],
   "source": []
  }
 ],
 "metadata": {
  "kernelspec": {
   "display_name": "Python 3 (ipykernel)",
   "language": "python",
   "name": "python3"
  },
  "language_info": {
   "codemirror_mode": {
    "name": "ipython",
    "version": 3
   },
   "file_extension": ".py",
   "mimetype": "text/x-python",
   "name": "python",
   "nbconvert_exporter": "python",
   "pygments_lexer": "ipython3",
   "version": "3.8.10"
  }
 },
 "nbformat": 4,
 "nbformat_minor": 5
}
