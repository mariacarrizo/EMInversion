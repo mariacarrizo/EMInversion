{
 "cells": [
  {
   "cell_type": "code",
   "execution_count": 1,
   "id": "8dc8cd5b",
   "metadata": {},
   "outputs": [],
   "source": [
    "# Global inversion with empymod\n",
    "\n",
    "%matplotlib notebook"
   ]
  },
  {
   "cell_type": "code",
   "execution_count": 2,
   "id": "d4ff7b22",
   "metadata": {},
   "outputs": [],
   "source": [
    "import empymod\n",
    "import numpy as np\n",
    "#import matplotlib.pyplot as plt\n",
    "import time\n",
    "from joblib import Parallel, delayed"
   ]
  },
  {
   "cell_type": "code",
   "execution_count": 3,
   "id": "8d89fba1",
   "metadata": {},
   "outputs": [],
   "source": [
    "\n",
    "# Receivers geometry\n",
    "\n",
    "offsets = np.array([2, 4, 8]) # in meters\n",
    "dip = np.array([0, 90])\n",
    "\n",
    "Hreceivers = [offsets, offsets*0, 0, 0, 0]\n",
    "Vreceivers = [offsets, offsets*0, 0, 0, 90]\n",
    "\n",
    "# Source geometry\n",
    "\n",
    "Hsource = [0, 0, 0 ,0 , 0]\n",
    "Vsource = [0, 0, 0, 0, 90]\n",
    "\n",
    "# Frequency\n",
    "\n",
    "freq = 9000"
   ]
  },
  {
   "cell_type": "code",
   "execution_count": 4,
   "id": "38c4180a",
   "metadata": {},
   "outputs": [
    {
     "name": "stdout",
     "output_type": "stream",
     "text": [
      "\n",
      ":: empymod END; runtime = 0:00:01.227318 :: 1 kernel call(s)\n",
      "\n",
      "\n",
      ":: empymod END; runtime = 0:00:00.007817 :: 1 kernel call(s)\n",
      "\n",
      "\n",
      ":: empymod END; runtime = 0:00:00.007009 :: 1 kernel call(s)\n",
      "\n"
     ]
    }
   ],
   "source": [
    "# True data\n",
    "\n",
    "res = [2e14, 10, 20, 10]\n",
    "depth = [0, 2, 5]\n",
    "\n",
    "HCP = empymod.loop(Hsource, Hreceivers, depth, res, freq, xdirect=None, mrec = 'loop')\n",
    "VCP = empymod.loop(Vsource, Vreceivers, depth, res, freq, xdirect=None, mrec = 'loop')\n",
    "PRP = empymod.loop(Hsource, Vreceivers, depth, res, freq, xdirect=None, mrec = 'loop')\n",
    "\n",
    "Zdata = np.hstack((HCP, VCP, PRP))\n"
   ]
  },
  {
   "cell_type": "code",
   "execution_count": null,
   "id": "63997881",
   "metadata": {},
   "outputs": [],
   "source": [
    "print(HCP)\n",
    "print(VCP)\n",
    "print(PRP)"
   ]
  },
  {
   "cell_type": "code",
   "execution_count": 5,
   "id": "31fbe043",
   "metadata": {},
   "outputs": [],
   "source": [
    "# sampling of depth and conductivities\n",
    "nsl = 1\n",
    "\n",
    "s0 = -2 # minimum conductivity in S/m\n",
    "s1 = -0.8 # maximum conductivity in S/m\n",
    "# conductivities array\n",
    "conds = np.logspace(s0, s1, nsl)\n",
    "\n",
    "th0 = 0.1 # minimum thickness in m\n",
    "th1 = 5   # maximum thickness in m\n",
    "# thickness array\n",
    "thicks = np.linspace(th0, th1, nsl)\n",
    "\n",
    "# Array to store values\n",
    "\n",
    "#Zcube = np.zeros((nsl, nsl, nsl, nsl, nsl, 9), dtype = 'complex') # 9 coil geometries, 5 parameters "
   ]
  },
  {
   "cell_type": "code",
   "execution_count": null,
   "id": "333e4173",
   "metadata": {},
   "outputs": [],
   "source": [
    "# Loop to create hypercube\n",
    "\n",
    "startTime = time.time()\n",
    "\n",
    "err = 1\n",
    "\n",
    "for is1 in range(0, nsl):\n",
    "    res[1] = 1/conds[is1] # set resistivity of first layer\n",
    "    \n",
    "    for is2 in range(0, nsl):\n",
    "        res[2] = 1/conds[is2] # set resistivity of second layer\n",
    "        \n",
    "        for is3 in range(0, nsl): \n",
    "            res[3] = 1/conds[is3] # set resistivity of third layer\n",
    "            \n",
    "            for it1 in range(0, nsl):\n",
    "                depth[1] = thicks[it1] # set thickness of first layer\n",
    "                \n",
    "                for it2 in range(0, nsl):\n",
    "                    depth[2] = depth[1] + thicks[it2] # set thickness of second layer\n",
    "                    \n",
    "                    # Compute fields\n",
    "                    \n",
    "                    HCP = empymod.loop(Hsource, Hreceivers, depth, res, freq, xdirect=None, mrec = 'loop', verb = 0)\n",
    "                    VCP = empymod.loop(Vsource, Vreceivers, depth, res, freq, xdirect=None, mrec = 'loop', verb = 0)\n",
    "                    PRP = empymod.loop(Hsource, Vreceivers, depth, res, freq, xdirect=None, mrec = 'loop', verb = 0)\n",
    "                    \n",
    "                    # Store in hypercube\n",
    "                    \n",
    "                    Zcube[is1, is2, is3, it1, it2, 0:3] = HCP\n",
    "                    Zcube[is1, is2, is3, it1, it2, 3:6] = VCP\n",
    "                    Zcube[is1, is2, is3, it1, it2, 6:9] = PRP\n",
    "                    \n",
    "                    Z = np.hstack((HCP, VCP, PRP))\n",
    "                    \n",
    "                    # Calculate amplitude of difference\n",
    "                    \n",
    "                    nZdiff = np.abs(Z - Zdata) **2 / np.abs(Zdata)**2\n",
    "\n",
    "                    merr = np.log10(np.sqrt(np.sum(nZdiff)))\n",
    "                    \n",
    "                    if merr < err: # until error increases\n",
    "                        # set model values\n",
    "                        ms1 = is1\n",
    "                        ms2 = is2\n",
    "                        ms3 = is3\n",
    "                        mt1 = it1\n",
    "                        mt2 = it2\n",
    "                        err = merr\n",
    "                        \n",
    "\n",
    "executionTime = (time.time() - startTime)\n",
    "print('Execution time in seconds: ' + str(executionTime))\n",
    "\n",
    "print('Best model is found at an error of ' + str(10**err) +' for')\n",
    "print('sigma_1 = '+ str(conds[ms1])+ ' S/m, d_1 ' + str(thicks[mt1]) + 'm')\n",
    "print('sigma_2 = '+ str(conds[ms2])+ ' S/m, d_2 ' + str(thicks[mt1] + thicks[mt2]) + 'm')\n",
    "print('sigma_3 = '+ str(conds[ms3])+ ' S/m')"
   ]
  },
  {
   "cell_type": "code",
   "execution_count": null,
   "id": "de03eece-21c4-467b-b47e-4c1723e9455f",
   "metadata": {},
   "outputs": [],
   "source": [
    "r"
   ]
  },
  {
   "cell_type": "code",
   "execution_count": null,
   "id": "67323666-01ca-48d9-97a8-a095afa44836",
   "metadata": {},
   "outputs": [],
   "source": []
  }
 ],
 "metadata": {
  "kernelspec": {
   "display_name": "Python 3 (ipykernel)",
   "language": "python",
   "name": "python3"
  },
  "language_info": {
   "codemirror_mode": {
    "name": "ipython",
    "version": 3
   },
   "file_extension": ".py",
   "mimetype": "text/x-python",
   "name": "python",
   "nbconvert_exporter": "python",
   "pygments_lexer": "ipython3",
   "version": "3.9.12"
  }
 },
 "nbformat": 4,
 "nbformat_minor": 5
}
