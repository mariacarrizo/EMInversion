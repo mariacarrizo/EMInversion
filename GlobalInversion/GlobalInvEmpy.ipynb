{
 "cells": [
  {
   "cell_type": "markdown",
   "id": "5c6ccc92-2237-4a6f-b05b-8f8fc64be05e",
   "metadata": {},
   "source": [
    "# Global inversion with empymod\n",
    "# Halfspaces case"
   ]
  },
  {
   "cell_type": "code",
   "execution_count": null,
   "id": "b82b86cf-4df9-45e7-9b3d-92f977c5aded",
   "metadata": {},
   "outputs": [],
   "source": [
    "#%matplotlib notebook"
   ]
  },
  {
   "cell_type": "code",
   "execution_count": null,
   "id": "d4ff7b22",
   "metadata": {},
   "outputs": [],
   "source": [
    "import empymod\n",
    "import numpy as np\n",
    "import matplotlib.pyplot as plt\n",
    "import time\n",
    "from joblib import Parallel, delayed"
   ]
  },
  {
   "cell_type": "code",
   "execution_count": null,
   "id": "8d89fba1",
   "metadata": {},
   "outputs": [],
   "source": [
    "# Define Dualem-482 geometry\n",
    "\n",
    "offsets = np.array([2, 4, 8]) # in meters\n",
    "height = -0.10 # meters height From ground surface to center of coils\n",
    "rad = 0.08 # Define radius of coil (8 cm)\n",
    "\n",
    "# Source and receivers geometry\n",
    "\n",
    "# For HCP\n",
    "Hsource = [-rad, rad, -rad, rad, height, height]\n",
    "Hreceivers = [offsets-rad, offsets+rad,\n",
    "              np.ones(3)*-rad, np.ones(3)*rad, height, height]\n",
    "\n",
    "# For VCP\n",
    "Vsource = [0, 0, height, 90, 0]\n",
    "Vreceivers = [offsets, offsets*0, height, 90, 0]\n",
    "\n",
    "# For PRP\n",
    "Psource = [0, 0, height]\n",
    "Preceivers = [offsets, offsets*0, height]\n",
    "\n",
    "# Frequency\n",
    "\n",
    "freq = 9000"
   ]
  },
  {
   "cell_type": "code",
   "execution_count": null,
   "id": "38c4180a",
   "metadata": {},
   "outputs": [],
   "source": [
    "# True data\n",
    "\n",
    "res = [2e14, 10, 20, 10]\n",
    "depth = [0, 2, 2]\n",
    "\n",
    "HCP_Hs = empymod.loop(Hsource, Hreceivers, depth, res, freq, xdirect=None, mrec = 'loop')\n",
    "VCP_Hs = empymod.loop(Vsource, Vreceivers, depth, res, freq, xdirect=None, mrec = 'loop')\n",
    "PRP_Hs = empymod.dipole(Psource, Preceivers, depth, res, freq, ab=64, xdirect=None)\n",
    "\n",
    "HCP_Hp = empymod.loop(Hsource, Hreceivers, depth=[], res=[2e14], freqtime=freq, mrec = 'loop')\n",
    "VCP_Hp = empymod.loop(Vsource, Vreceivers, depth=[], res=[2e14], freqtime=freq, mrec = 'loop')\n",
    "PRP_Hp = empymod.dipole(Psource, Preceivers, depth=[], res=[2e14], freqtime=freq, ab=66)\n",
    "\n",
    "Q_HCP = np.abs(np.imag(HCP_Hs/HCP_Hp))\n",
    "Q_VCP = np.abs(np.imag(VCP_Hs/VCP_Hp))\n",
    "Q_PRP = np.abs(np.imag(PRP_Hs/PRP_Hp))\n",
    "\n",
    "Zdata = np.hstack((Q_HCP, Q_VCP, Q_PRP))\n"
   ]
  },
  {
   "cell_type": "code",
   "execution_count": null,
   "id": "31fbe043",
   "metadata": {},
   "outputs": [],
   "source": [
    "# sampling of depth and conductivities\n",
    "nsl = 21\n",
    "\n",
    "s0 = -2 # minimum conductivity in S/m\n",
    "s1 = -0.8 # maximum conductivity in S/m\n",
    "# conductivities array\n",
    "conds = np.logspace(s0, s1, nsl)\n",
    "\n",
    "th0 = 0.1 # minimum thickness in m\n",
    "th1 = 5   # maximum thickness in m\n",
    "# thickness array\n",
    "thicks = np.linspace(th0, th1, nsl)\n",
    "\n",
    "# Array to store values\n",
    "\n",
    "#Zcube = np.zeros((nsl, nsl, nsl, nsl, nsl, 9), dtype = 'complex') # 9 coil geometries, 5 parameters "
   ]
  },
  {
   "cell_type": "code",
   "execution_count": null,
   "id": "333e4173",
   "metadata": {},
   "outputs": [],
   "source": [
    "# Loop to create hypercube\n",
    "\n",
    "def forward_parallel(is1, is2, is3, it1, it2):\n",
    "    time.sleep(0.01)\n",
    "    \n",
    "    res[1] = 1/conds[is1] # set resistivity of first layer\n",
    "    res[2] = 1/conds[is2] # set resistivity of second layer\n",
    "    res[3] = 1/conds[is3] # set resistivity of third layer\n",
    "    depth[1] = thicks[it1] # set thickness of first layer\n",
    "    depth[2] = depth[1] + thicks[it2] # set thickness of second layer\n",
    "\n",
    "    # Compute fields\n",
    "\n",
    "    HCP_Hs = empymod.loop(Hsource, Hreceivers, depth, res, freq, xdirect=None, mrec = 'loop', verb=0)\n",
    "    VCP_Hs = empymod.loop(Vsource, Vreceivers, depth, res, freq, xdirect=None, mrec = 'loop', verb=0)\n",
    "    PRP_Hs = empymod.dipole(Psource, Preceivers, depth, res, freq, ab=64, xdirect=None, verb=0)\n",
    "\n",
    "    HCP_Hp = empymod.loop(Hsource, Hreceivers, depth=[], res=[2e14], freqtime=freq, mrec = 'loop', verb=0)\n",
    "    VCP_Hp = empymod.loop(Vsource, Vreceivers, depth=[], res=[2e14], freqtime=freq, mrec = 'loop', verb=0)\n",
    "    PRP_Hp = empymod.dipole(Psource, Preceivers, depth=[], res=[2e14], freqtime=freq, ab=66, verb=0)\n",
    "\n",
    "    Q_HCP = np.abs(np.imag(HCP_Hs/HCP_Hp))\n",
    "    Q_VCP = np.abs(np.imag(VCP_Hs/VCP_Hp))\n",
    "    Q_PRP = np.abs(np.imag(PRP_Hs/PRP_Hp))\n",
    "\n",
    "    Z = np.hstack((Q_HCP, Q_VCP, Q_PRP))\n",
    "    return Z"
   ]
  },
  {
   "cell_type": "code",
   "execution_count": null,
   "id": "c99e0d0f-21b8-442f-8f4e-cccb7cdd9acf",
   "metadata": {},
   "outputs": [],
   "source": [
    "startTime = time.time()\n",
    "\n",
    "Results = Parallel(n_jobs=-1,verbose=1)(delayed(forward_parallel)(i, j, k, m, n) for i in range(11,21) \n",
    "        for j in range(0,nsl) for k in range(0,nsl) for m in range(0,nsl) for n in range (0,nsl))\n",
    "\n",
    "executionTime = (time.time() - startTime)\n",
    "print('Execution time in seconds: ' + str(executionTime))"
   ]
  },
  {
   "cell_type": "code",
   "execution_count": null,
   "id": "5a8f52b3-b456-4544-aff7-f335369ae63a",
   "metadata": {},
   "outputs": [],
   "source": [
    "np.save('Results_is1_11to21', Results)"
   ]
  },
  {
   "cell_type": "code",
   "execution_count": null,
   "id": "b1e5daf5-9924-41da-bbf7-33528cd34f70",
   "metadata": {},
   "outputs": [],
   "source": [
    "ns_array = np.array([5, 10, 15, 51])\n",
    "\n",
    "time_8work = np.array([10, 278, 2075, 942785]) # guessing the last\n",
    "time_loop = np.array([19, 649, 265.6*15, 2097753]) # guessing the last\n",
    "time_48work = np.array([3.6, 32, 221.14, 30*60*60]) # guessing the last two\n",
    "\n",
    "\n",
    "plt.semilogy(ns_array, time_loop, 'k', label = 'Loop')\n",
    "plt.semilogy(ns_array, time_8work, 'b', label = '8 workers')\n",
    "plt.semilogy(ns_array, time_48work, 'r', label = '48 workers')\n",
    "plt.xlabel('Number of samples')\n",
    "plt.ylabel('Seconds')\n",
    "plt.legend()\n"
   ]
  },
  {
   "cell_type": "code",
   "execution_count": null,
   "id": "fa8dc0b1-9d62-4373-9459-9cf703398013",
   "metadata": {},
   "outputs": [],
   "source": [
    "# Memory size: around 0.432GB per cycle: 51**4 * 2 params * 32 bytes "
   ]
  }
 ],
 "metadata": {
  "kernelspec": {
   "display_name": "Python 3 (ipykernel)",
   "language": "python",
   "name": "python3"
  },
  "language_info": {
   "codemirror_mode": {
    "name": "ipython",
    "version": 3
   },
   "file_extension": ".py",
   "mimetype": "text/x-python",
   "name": "python",
   "nbconvert_exporter": "python",
   "pygments_lexer": "ipython3",
   "version": "3.8.10"
  }
 },
 "nbformat": 4,
 "nbformat_minor": 5
}
