{
 "cells": [
  {
   "cell_type": "code",
   "execution_count": 1,
   "id": "8dc8cd5b",
   "metadata": {},
   "outputs": [],
   "source": [
    "# Global inversion with empymod\n",
    "\n",
    "#%matplotlib notebook"
   ]
  },
  {
   "cell_type": "code",
   "execution_count": 1,
   "id": "d4ff7b22",
   "metadata": {},
   "outputs": [],
   "source": [
    "import empymod\n",
    "import numpy as np\n",
    "#import matplotlib.pyplot as plt\n",
    "import time\n",
    "from joblib import Parallel, delayed"
   ]
  },
  {
   "cell_type": "code",
   "execution_count": 15,
   "id": "8d89fba1",
   "metadata": {},
   "outputs": [],
   "source": [
    "\n",
    "# Receivers geometry\n",
    "\n",
    "offsets = np.array([2, 4, 8]) # in meters\n",
    "dip = np.array([0, 90])\n",
    "\n",
    "Hreceivers = [offsets, offsets*0, 0, 0, 0]\n",
    "Vreceivers = [offsets, offsets*0, 0, 0, 90]\n",
    "\n",
    "# Source geometry\n",
    "\n",
    "Hsource = [0, 0, 0 ,0 , 0]\n",
    "Vsource = [0, 0, 0, 0, 90]\n",
    "\n",
    "# Frequency\n",
    "\n",
    "freq = 9000"
   ]
  },
  {
   "cell_type": "code",
   "execution_count": 16,
   "id": "38c4180a",
   "metadata": {},
   "outputs": [
    {
     "name": "stdout",
     "output_type": "stream",
     "text": [
      "\n",
      ":: empymod END; runtime = 0:00:00.007634 :: 1 kernel call(s)\n",
      "\n",
      "\n",
      ":: empymod END; runtime = 0:00:00.004076 :: 1 kernel call(s)\n",
      "\n",
      "\n",
      ":: empymod END; runtime = 0:00:00.002617 :: 1 kernel call(s)\n",
      "\n"
     ]
    }
   ],
   "source": [
    "# True data\n",
    "\n",
    "res = [2e14, 10, 20, 10]\n",
    "depth = [0, 2, 5]\n",
    "\n",
    "HCP = empymod.loop(Hsource, Hreceivers, depth, res, freq, xdirect=None, mrec = 'loop')\n",
    "VCP = empymod.loop(Vsource, Vreceivers, depth, res, freq, xdirect=None, mrec = 'loop')\n",
    "PRP = empymod.loop(Hsource, Vreceivers, depth, res, freq, xdirect=None, mrec = 'loop')\n",
    "\n",
    "Zdata = np.hstack((HCP, VCP, PRP))\n"
   ]
  },
  {
   "cell_type": "code",
   "execution_count": 24,
   "id": "31fbe043",
   "metadata": {},
   "outputs": [],
   "source": [
    "# sampling of depth and conductivities\n",
    "nsl = 5\n",
    "\n",
    "s0 = -2 # minimum conductivity in S/m\n",
    "s1 = -0.8 # maximum conductivity in S/m\n",
    "# conductivities array\n",
    "conds = np.logspace(s0, s1, nsl)\n",
    "\n",
    "th0 = 0.1 # minimum thickness in m\n",
    "th1 = 5   # maximum thickness in m\n",
    "# thickness array\n",
    "thicks = np.linspace(th0, th1, nsl)\n",
    "\n",
    "# Array to store values\n",
    "\n",
    "#Zcube = np.zeros((nsl, nsl, nsl, nsl, nsl, 9), dtype = 'complex') # 9 coil geometries, 5 parameters "
   ]
  },
  {
   "cell_type": "code",
   "execution_count": 25,
   "id": "333e4173",
   "metadata": {},
   "outputs": [],
   "source": [
    "# Loop to create hypercube\n",
    "\n",
    "def forward_parallel(is1, is2, is3, it1, it2):\n",
    "    time.sleep(0.1)\n",
    "    \n",
    "    res[1] = 1/conds[is1] # set resistivity of first layer\n",
    "    res[2] = 1/conds[is2] # set resistivity of second layer\n",
    "    res[3] = 1/conds[is3] # set resistivity of third layer\n",
    "    depth[1] = thicks[it1] # set thickness of first layer\n",
    "    depth[2] = depth[1] + thicks[it2] # set thickness of second layer\n",
    "\n",
    "    # Compute fields\n",
    "\n",
    "    HCP = empymod.loop(Hsource, Hreceivers, depth, res, freq, xdirect=None, mrec = 'loop', verb = 0)\n",
    "    VCP = empymod.loop(Vsource, Vreceivers, depth, res, freq, xdirect=None, mrec = 'loop', verb = 0)\n",
    "    PRP = empymod.loop(Hsource, Vreceivers, depth, res, freq, xdirect=None, mrec = 'loop', verb = 0)\n",
    "\n",
    "    # Store in hypercube\n",
    "\n",
    "    #Zcube[is1, is2, is3, it1, it2, 0:3] = HCP\n",
    "    #Zcube[is1, is2, is3, it1, it2, 3:6] = VCP\n",
    "    #Zcube[is1, is2, is3, it1, it2, 6:9] = PRP\n",
    "\n",
    "    Z = np.hstack((HCP, VCP, PRP))\n",
    "    return Z\n",
    "            \n",
    "\n",
    "\n"
   ]
  },
  {
   "cell_type": "code",
   "execution_count": 26,
   "id": "c99e0d0f-21b8-442f-8f4e-cccb7cdd9acf",
   "metadata": {},
   "outputs": [
    {
     "name": "stderr",
     "output_type": "stream",
     "text": [
      "[Parallel(n_jobs=-1)]: Using backend LokyBackend with 8 concurrent workers.\n",
      "[Parallel(n_jobs=-1)]: Done   2 tasks      | elapsed:   10.6s\n",
      "[Parallel(n_jobs=-1)]: Done   9 tasks      | elapsed:   10.8s\n",
      "[Parallel(n_jobs=-1)]: Done  16 tasks      | elapsed:   10.9s\n",
      "[Parallel(n_jobs=-1)]: Done  25 tasks      | elapsed:   11.1s\n",
      "[Parallel(n_jobs=-1)]: Done  34 tasks      | elapsed:   11.2s\n",
      "[Parallel(n_jobs=-1)]: Done  45 tasks      | elapsed:   11.3s\n",
      "[Parallel(n_jobs=-1)]: Done  56 tasks      | elapsed:   11.5s\n",
      "[Parallel(n_jobs=-1)]: Done  69 tasks      | elapsed:   11.7s\n",
      "[Parallel(n_jobs=-1)]: Done  82 tasks      | elapsed:   11.9s\n",
      "[Parallel(n_jobs=-1)]: Done  97 tasks      | elapsed:   12.1s\n",
      "[Parallel(n_jobs=-1)]: Done 112 tasks      | elapsed:   12.3s\n",
      "[Parallel(n_jobs=-1)]: Done 129 tasks      | elapsed:   12.6s\n",
      "[Parallel(n_jobs=-1)]: Done 146 tasks      | elapsed:   12.8s\n",
      "[Parallel(n_jobs=-1)]: Done 165 tasks      | elapsed:   13.1s\n",
      "[Parallel(n_jobs=-1)]: Done 184 tasks      | elapsed:   13.3s\n",
      "[Parallel(n_jobs=-1)]: Done 205 tasks      | elapsed:   13.7s\n",
      "[Parallel(n_jobs=-1)]: Done 226 tasks      | elapsed:   14.0s\n",
      "[Parallel(n_jobs=-1)]: Done 249 tasks      | elapsed:   14.3s\n",
      "[Parallel(n_jobs=-1)]: Done 272 tasks      | elapsed:   14.7s\n",
      "[Parallel(n_jobs=-1)]: Done 297 tasks      | elapsed:   15.0s\n",
      "[Parallel(n_jobs=-1)]: Done 322 tasks      | elapsed:   15.3s\n",
      "[Parallel(n_jobs=-1)]: Done 349 tasks      | elapsed:   15.7s\n",
      "[Parallel(n_jobs=-1)]: Done 376 tasks      | elapsed:   16.1s\n",
      "[Parallel(n_jobs=-1)]: Done 405 tasks      | elapsed:   16.5s\n",
      "[Parallel(n_jobs=-1)]: Done 434 tasks      | elapsed:   17.0s\n",
      "[Parallel(n_jobs=-1)]: Done 465 tasks      | elapsed:   17.5s\n",
      "[Parallel(n_jobs=-1)]: Done 496 tasks      | elapsed:   18.0s\n",
      "[Parallel(n_jobs=-1)]: Done 529 tasks      | elapsed:   18.5s\n",
      "[Parallel(n_jobs=-1)]: Done 562 tasks      | elapsed:   19.0s\n",
      "[Parallel(n_jobs=-1)]: Done 597 tasks      | elapsed:   19.5s\n",
      "[Parallel(n_jobs=-1)]: Done 632 tasks      | elapsed:   20.0s\n",
      "[Parallel(n_jobs=-1)]: Done 669 tasks      | elapsed:   20.5s\n",
      "[Parallel(n_jobs=-1)]: Done 706 tasks      | elapsed:   21.1s\n",
      "[Parallel(n_jobs=-1)]: Done 745 tasks      | elapsed:   21.7s\n",
      "[Parallel(n_jobs=-1)]: Done 784 tasks      | elapsed:   22.2s\n",
      "[Parallel(n_jobs=-1)]: Done 825 tasks      | elapsed:   22.8s\n",
      "[Parallel(n_jobs=-1)]: Done 866 tasks      | elapsed:   23.4s\n",
      "[Parallel(n_jobs=-1)]: Done 909 tasks      | elapsed:   24.1s\n",
      "[Parallel(n_jobs=-1)]: Done 952 tasks      | elapsed:   24.7s\n",
      "[Parallel(n_jobs=-1)]: Done 997 tasks      | elapsed:   25.3s\n",
      "[Parallel(n_jobs=-1)]: Done 1042 tasks      | elapsed:   25.9s\n",
      "[Parallel(n_jobs=-1)]: Done 1089 tasks      | elapsed:   26.7s\n",
      "[Parallel(n_jobs=-1)]: Done 1136 tasks      | elapsed:   27.4s\n",
      "[Parallel(n_jobs=-1)]: Done 1185 tasks      | elapsed:   28.1s\n",
      "[Parallel(n_jobs=-1)]: Done 1234 tasks      | elapsed:   28.8s\n",
      "[Parallel(n_jobs=-1)]: Done 1285 tasks      | elapsed:   29.5s\n",
      "[Parallel(n_jobs=-1)]: Done 1336 tasks      | elapsed:   30.2s\n",
      "[Parallel(n_jobs=-1)]: Done 1389 tasks      | elapsed:   30.9s\n",
      "[Parallel(n_jobs=-1)]: Done 1442 tasks      | elapsed:   31.6s\n",
      "[Parallel(n_jobs=-1)]: Done 1497 tasks      | elapsed:   32.4s\n",
      "[Parallel(n_jobs=-1)]: Done 1552 tasks      | elapsed:   33.2s\n",
      "[Parallel(n_jobs=-1)]: Done 1609 tasks      | elapsed:   34.0s\n",
      "[Parallel(n_jobs=-1)]: Done 1666 tasks      | elapsed:   34.8s\n",
      "[Parallel(n_jobs=-1)]: Done 1725 tasks      | elapsed:   35.6s\n",
      "[Parallel(n_jobs=-1)]: Done 1784 tasks      | elapsed:   36.6s\n",
      "[Parallel(n_jobs=-1)]: Done 1845 tasks      | elapsed:   37.4s\n",
      "[Parallel(n_jobs=-1)]: Done 1906 tasks      | elapsed:   38.3s\n",
      "[Parallel(n_jobs=-1)]: Done 1969 tasks      | elapsed:   39.2s\n",
      "[Parallel(n_jobs=-1)]: Done 2032 tasks      | elapsed:   40.2s\n",
      "[Parallel(n_jobs=-1)]: Done 2097 tasks      | elapsed:   41.1s\n",
      "[Parallel(n_jobs=-1)]: Done 2162 tasks      | elapsed:   42.1s\n",
      "[Parallel(n_jobs=-1)]: Done 2229 tasks      | elapsed:   43.0s\n",
      "[Parallel(n_jobs=-1)]: Done 2296 tasks      | elapsed:   44.1s\n",
      "[Parallel(n_jobs=-1)]: Done 2365 tasks      | elapsed:   45.0s\n",
      "[Parallel(n_jobs=-1)]: Done 2434 tasks      | elapsed:   46.0s\n",
      "[Parallel(n_jobs=-1)]: Done 2505 tasks      | elapsed:   47.0s\n",
      "[Parallel(n_jobs=-1)]: Done 2576 tasks      | elapsed:   48.0s\n",
      "[Parallel(n_jobs=-1)]: Done 2649 tasks      | elapsed:   49.1s\n",
      "[Parallel(n_jobs=-1)]: Done 2722 tasks      | elapsed:   50.1s\n",
      "[Parallel(n_jobs=-1)]: Done 2797 tasks      | elapsed:   51.2s\n",
      "[Parallel(n_jobs=-1)]: Done 2872 tasks      | elapsed:   52.3s\n",
      "[Parallel(n_jobs=-1)]: Done 2949 tasks      | elapsed:   53.4s\n",
      "[Parallel(n_jobs=-1)]: Done 3026 tasks      | elapsed:   54.6s\n",
      "[Parallel(n_jobs=-1)]: Done 3105 tasks      | elapsed:   55.8s\n"
     ]
    },
    {
     "name": "stdout",
     "output_type": "stream",
     "text": [
      "Execution time in seconds: 56.2300808429718\n"
     ]
    },
    {
     "name": "stderr",
     "output_type": "stream",
     "text": [
      "[Parallel(n_jobs=-1)]: Done 3125 out of 3125 | elapsed:   56.1s finished\n"
     ]
    }
   ],
   "source": [
    "startTime = time.time()\n",
    "\n",
    "Results = Parallel(n_jobs=-1,verbose=10)(delayed(forward_parallel)(i, j, k, m, n) for i in range(nsl) \n",
    "                                         for j in range(nsl) for k in range(nsl) for m in range(nsl) for n in range (nsl))\n",
    "\n",
    "executionTime = (time.time() - startTime)\n",
    "print('Execution time in seconds: ' + str(executionTime))"
   ]
  },
  {
   "cell_type": "code",
   "execution_count": 27,
   "id": "5a8f52b3-b456-4544-aff7-f335369ae63a",
   "metadata": {},
   "outputs": [],
   "source": [
    "np.save('Results_nsl' + str(nsl), Results)"
   ]
  },
  {
   "cell_type": "code",
   "execution_count": null,
   "id": "b1e5daf5-9924-41da-bbf7-33528cd34f70",
   "metadata": {},
   "outputs": [],
   "source": []
  }
 ],
 "metadata": {
  "kernelspec": {
   "display_name": "Python 3 (ipykernel)",
   "language": "python",
   "name": "python3"
  },
  "language_info": {
   "codemirror_mode": {
    "name": "ipython",
    "version": 3
   },
   "file_extension": ".py",
   "mimetype": "text/x-python",
   "name": "python",
   "nbconvert_exporter": "python",
   "pygments_lexer": "ipython3",
   "version": "3.9.12"
  }
 },
 "nbformat": 4,
 "nbformat_minor": 5
}
