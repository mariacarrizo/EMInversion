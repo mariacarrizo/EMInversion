{
 "cells": [
  {
   "cell_type": "code",
   "execution_count": 1,
   "id": "8dc8cd5b",
   "metadata": {},
   "outputs": [],
   "source": [
    "# Global inversion with empymod\n",
    "\n",
    "#%matplotlib notebook"
   ]
  },
  {
   "cell_type": "code",
   "execution_count": 2,
   "id": "d4ff7b22",
   "metadata": {},
   "outputs": [],
   "source": [
    "import empymod\n",
    "import numpy as np\n",
    "import matplotlib.pyplot as plt\n",
    "import time\n",
    "from joblib import Parallel, delayed"
   ]
  },
  {
   "cell_type": "code",
   "execution_count": 3,
   "id": "8d89fba1",
   "metadata": {},
   "outputs": [],
   "source": [
    "\n",
    "# Receivers geometry\n",
    "\n",
    "offsets = np.array([2, 4, 8]) # in meters\n",
    "dip = np.array([0, 90])\n",
    "\n",
    "Hreceivers = [offsets, offsets*0, 0, 0, 0]\n",
    "Vreceivers = [offsets, offsets*0, 0, 0, 90]\n",
    "Preceivers = [offsets, offsets*0, 0, 90, 90]\n",
    "\n",
    "# Source geometry\n",
    "\n",
    "Hsource = [0, 0, 0 ,0 , 0]\n",
    "Vsource = [0, 0, 0, 0, 90]\n",
    "\n",
    "# Frequency\n",
    "\n",
    "freq = 9000"
   ]
  },
  {
   "cell_type": "code",
   "execution_count": 4,
   "id": "38c4180a",
   "metadata": {},
   "outputs": [
    {
     "name": "stdout",
     "output_type": "stream",
     "text": [
      "\n",
      ":: empymod END; runtime = 0:00:00.539414 :: 1 kernel call(s)\n",
      "\n",
      "\n",
      ":: empymod END; runtime = 0:00:00.003918 :: 1 kernel call(s)\n",
      "\n",
      "\n",
      ":: empymod END; runtime = 0:00:00.004369 :: 1 kernel call(s)\n",
      "\n"
     ]
    }
   ],
   "source": [
    "# True data\n",
    "\n",
    "res = [2e14, 10, 20, 10]\n",
    "depth = [0, 2, 5]\n",
    "\n",
    "HCP = empymod.loop(Hsource, Hreceivers, depth, res, freq, xdirect=None, mrec = 'loop')\n",
    "VCP = empymod.loop(Vsource, Vreceivers, depth, res, freq, xdirect=None, mrec = 'loop')\n",
    "PRP = empymod.loop(Hsource, Preceivers, depth, res, freq, xdirect=None, mrec = 'loop')\n",
    "\n",
    "Zdata = np.hstack((HCP, VCP, PRP))\n"
   ]
  },
  {
   "cell_type": "code",
   "execution_count": 9,
   "id": "31fbe043",
   "metadata": {},
   "outputs": [],
   "source": [
    "# sampling of depth and conductivities\n",
    "nsl = 21\n",
    "\n",
    "s0 = -2 # minimum conductivity in S/m\n",
    "s1 = -0.8 # maximum conductivity in S/m\n",
    "# conductivities array\n",
    "conds = np.logspace(s0, s1, nsl)\n",
    "\n",
    "th0 = 0.1 # minimum thickness in m\n",
    "th1 = 5   # maximum thickness in m\n",
    "# thickness array\n",
    "thicks = np.linspace(th0, th1, nsl)\n",
    "\n",
    "# Array to store values\n",
    "\n",
    "#Zcube = np.zeros((nsl, nsl, nsl, nsl, nsl, 9), dtype = 'complex') # 9 coil geometries, 5 parameters "
   ]
  },
  {
   "cell_type": "code",
   "execution_count": 10,
   "id": "333e4173",
   "metadata": {},
   "outputs": [],
   "source": [
    "# Loop to create hypercube\n",
    "\n",
    "def forward_parallel(is1, is2, is3, it1, it2):\n",
    "    time.sleep(0.01)\n",
    "    \n",
    "    res[1] = 1/conds[is1] # set resistivity of first layer\n",
    "    res[2] = 1/conds[is2] # set resistivity of second layer\n",
    "    res[3] = 1/conds[is3] # set resistivity of third layer\n",
    "    depth[1] = thicks[it1] # set thickness of first layer\n",
    "    depth[2] = depth[1] + thicks[it2] # set thickness of second layer\n",
    "\n",
    "    # Compute fields\n",
    "\n",
    "    HCP = empymod.loop(Hsource, Hreceivers, depth, res, freq, xdirect=None, mrec = 'loop', verb = 0)\n",
    "    VCP = empymod.loop(Vsource, Vreceivers, depth, res, freq, xdirect=None, mrec = 'loop', verb = 0)\n",
    "    PRP = empymod.loop(Hsource, Preceivers, depth, res, freq, xdirect=None, mrec = 'loop', verb = 0)\n",
    "\n",
    "    # Store in hypercube\n",
    "\n",
    "    #Zcube[is1, is2, is3, it1, it2, 0:3] = HCP\n",
    "    #Zcube[is1, is2, is3, it1, it2, 3:6] = VCP\n",
    "    #Zcube[is1, is2, is3, it1, it2, 6:9] = PRP\n",
    "\n",
    "    Z = np.hstack((HCP, VCP, PRP))\n",
    "    return Z"
   ]
  },
  {
   "cell_type": "code",
   "execution_count": 11,
   "id": "c99e0d0f-21b8-442f-8f4e-cccb7cdd9acf",
   "metadata": {},
   "outputs": [
    {
     "name": "stderr",
     "output_type": "stream",
     "text": [
      "[Parallel(n_jobs=-1)]: Using backend LokyBackend with 8 concurrent workers.\n",
      "[Parallel(n_jobs=-1)]: Done  35 tasks      | elapsed:  1.4min\n",
      "[Parallel(n_jobs=-1)]: Done 784 tasks      | elapsed:  1.5min\n",
      "[Parallel(n_jobs=-1)]: Done 2784 tasks      | elapsed:  1.6min\n",
      "[Parallel(n_jobs=-1)]: Done 5584 tasks      | elapsed:  1.7min\n",
      "[Parallel(n_jobs=-1)]: Done 9184 tasks      | elapsed:  1.9min\n",
      "[Parallel(n_jobs=-1)]: Done 13584 tasks      | elapsed:  2.1min\n",
      "[Parallel(n_jobs=-1)]: Done 18784 tasks      | elapsed:  2.4min\n",
      "[Parallel(n_jobs=-1)]: Done 24784 tasks      | elapsed:  2.7min\n",
      "[Parallel(n_jobs=-1)]: Done 31584 tasks      | elapsed:  3.0min\n",
      "[Parallel(n_jobs=-1)]: Done 39184 tasks      | elapsed:  3.4min\n",
      "[Parallel(n_jobs=-1)]: Done 47584 tasks      | elapsed:  3.8min\n",
      "[Parallel(n_jobs=-1)]: Done 56784 tasks      | elapsed:  4.2min\n",
      "[Parallel(n_jobs=-1)]: Done 66784 tasks      | elapsed:  4.6min\n",
      "[Parallel(n_jobs=-1)]: Done 77584 tasks      | elapsed:  5.1min\n",
      "[Parallel(n_jobs=-1)]: Done 89184 tasks      | elapsed:  5.7min\n",
      "[Parallel(n_jobs=-1)]: Done 101584 tasks      | elapsed:  6.3min\n",
      "[Parallel(n_jobs=-1)]: Done 114784 tasks      | elapsed:  7.0min\n",
      "[Parallel(n_jobs=-1)]: Done 128784 tasks      | elapsed:  7.7min\n",
      "[Parallel(n_jobs=-1)]: Done 143584 tasks      | elapsed:  8.4min\n",
      "[Parallel(n_jobs=-1)]: Done 159184 tasks      | elapsed:  9.1min\n",
      "[Parallel(n_jobs=-1)]: Done 175584 tasks      | elapsed:  9.9min\n",
      "[Parallel(n_jobs=-1)]: Done 192784 tasks      | elapsed: 10.8min\n",
      "[Parallel(n_jobs=-1)]: Done 210784 tasks      | elapsed: 11.7min\n",
      "[Parallel(n_jobs=-1)]: Done 229584 tasks      | elapsed: 12.6min\n",
      "[Parallel(n_jobs=-1)]: Done 249184 tasks      | elapsed: 13.6min\n",
      "[Parallel(n_jobs=-1)]: Done 269584 tasks      | elapsed: 14.6min\n",
      "[Parallel(n_jobs=-1)]: Done 290784 tasks      | elapsed: 15.6min\n",
      "[Parallel(n_jobs=-1)]: Done 312784 tasks      | elapsed: 16.7min\n",
      "[Parallel(n_jobs=-1)]: Done 335584 tasks      | elapsed: 17.9min\n",
      "[Parallel(n_jobs=-1)]: Done 359184 tasks      | elapsed: 19.0min\n",
      "[Parallel(n_jobs=-1)]: Done 383584 tasks      | elapsed: 20.2min\n",
      "[Parallel(n_jobs=-1)]: Done 408784 tasks      | elapsed: 21.5min\n",
      "[Parallel(n_jobs=-1)]: Done 434784 tasks      | elapsed: 22.8min\n",
      "[Parallel(n_jobs=-1)]: Done 461584 tasks      | elapsed: 24.1min\n",
      "[Parallel(n_jobs=-1)]: Done 488912 tasks      | elapsed: 25.5min\n",
      "[Parallel(n_jobs=-1)]: Done 517312 tasks      | elapsed: 26.9min\n",
      "[Parallel(n_jobs=-1)]: Done 546512 tasks      | elapsed: 28.3min\n",
      "[Parallel(n_jobs=-1)]: Done 576512 tasks      | elapsed: 29.8min\n",
      "[Parallel(n_jobs=-1)]: Done 607312 tasks      | elapsed: 31.3min\n",
      "[Parallel(n_jobs=-1)]: Done 638912 tasks      | elapsed: 32.9min\n",
      "[Parallel(n_jobs=-1)]: Done 671312 tasks      | elapsed: 34.6min\n",
      "[Parallel(n_jobs=-1)]: Done 704512 tasks      | elapsed: 36.2min\n",
      "[Parallel(n_jobs=-1)]: Done 738512 tasks      | elapsed: 38.0min\n",
      "[Parallel(n_jobs=-1)]: Done 773312 tasks      | elapsed: 39.7min\n",
      "[Parallel(n_jobs=-1)]: Done 808912 tasks      | elapsed: 41.5min\n",
      "[Parallel(n_jobs=-1)]: Done 845312 tasks      | elapsed: 43.4min\n",
      "[Parallel(n_jobs=-1)]: Done 882512 tasks      | elapsed: 45.2min\n",
      "[Parallel(n_jobs=-1)]: Done 920512 tasks      | elapsed: 47.0min\n",
      "[Parallel(n_jobs=-1)]: Done 959312 tasks      | elapsed: 48.9min\n",
      "[Parallel(n_jobs=-1)]: Done 998912 tasks      | elapsed: 50.9min\n",
      "[Parallel(n_jobs=-1)]: Done 1039312 tasks      | elapsed: 52.9min\n",
      "[Parallel(n_jobs=-1)]: Done 1080512 tasks      | elapsed: 54.9min\n",
      "[Parallel(n_jobs=-1)]: Done 1122512 tasks      | elapsed: 56.9min\n",
      "[Parallel(n_jobs=-1)]: Done 1165312 tasks      | elapsed: 58.9min\n",
      "[Parallel(n_jobs=-1)]: Done 1208912 tasks      | elapsed: 61.1min\n",
      "[Parallel(n_jobs=-1)]: Done 1253312 tasks      | elapsed: 63.3min\n",
      "[Parallel(n_jobs=-1)]: Done 1298512 tasks      | elapsed: 65.4min\n",
      "[Parallel(n_jobs=-1)]: Done 1344512 tasks      | elapsed: 67.6min\n",
      "[Parallel(n_jobs=-1)]: Done 1391312 tasks      | elapsed: 69.9min\n",
      "[Parallel(n_jobs=-1)]: Done 1438912 tasks      | elapsed: 72.3min\n",
      "[Parallel(n_jobs=-1)]: Done 1487312 tasks      | elapsed: 74.7min\n",
      "[Parallel(n_jobs=-1)]: Done 1536512 tasks      | elapsed: 77.1min\n",
      "[Parallel(n_jobs=-1)]: Done 1586512 tasks      | elapsed: 79.6min\n",
      "[Parallel(n_jobs=-1)]: Done 1637312 tasks      | elapsed: 82.2min\n",
      "[Parallel(n_jobs=-1)]: Done 1688912 tasks      | elapsed: 84.9min\n",
      "[Parallel(n_jobs=-1)]: Done 1741312 tasks      | elapsed: 87.4min\n",
      "[Parallel(n_jobs=-1)]: Done 1794512 tasks      | elapsed: 90.1min\n",
      "[Parallel(n_jobs=-1)]: Done 1848240 tasks      | elapsed: 92.8min\n",
      "[Parallel(n_jobs=-1)]: Done 1903040 tasks      | elapsed: 95.5min\n",
      "[Parallel(n_jobs=-1)]: Done 1944810 out of 1944810 | elapsed: 97.5min finished\n"
     ]
    },
    {
     "name": "stdout",
     "output_type": "stream",
     "text": [
      "Execution time in seconds: 5861.9494025707245\n"
     ]
    }
   ],
   "source": [
    "startTime = time.time()\n",
    "\n",
    "Results = Parallel(n_jobs=-1,verbose=1)(delayed(forward_parallel)(i, j, k, m, n) for i in range(0,nsl) \n",
    "        for j in range(0,nsl) for k in range(0,nsl) for m in range(0,nsl) for n in range (0,nsl))\n",
    "\n",
    "executionTime = (time.time() - startTime)\n",
    "print('Execution time in seconds: ' + str(executionTime))"
   ]
  },
  {
   "cell_type": "code",
   "execution_count": 12,
   "id": "5a8f52b3-b456-4544-aff7-f335369ae63a",
   "metadata": {},
   "outputs": [],
   "source": [
    "np.save('Results', Results)"
   ]
  },
  {
   "cell_type": "code",
   "execution_count": null,
   "id": "b1e5daf5-9924-41da-bbf7-33528cd34f70",
   "metadata": {},
   "outputs": [],
   "source": [
    "ns_array = np.array([5, 10, 15, 51])\n",
    "\n",
    "time_8work = np.array([10, 278, 2075, 942785]) # guessing the last\n",
    "time_loop = np.array([19, 649, 265.6*15, 2097753]) # guessing the last\n",
    "time_48work = np.array([3.6, 32, 221.14, 30*60*60]) # guessing the last two\n",
    "\n",
    "\n",
    "plt.semilogy(ns_array, time_loop, 'k', label = 'Loop')\n",
    "plt.semilogy(ns_array, time_8work, 'b', label = '8 workers')\n",
    "plt.semilogy(ns_array, time_48work, 'r', label = '48 workers')\n",
    "plt.xlabel('Number of samples')\n",
    "plt.ylabel('Seconds')\n",
    "plt.legend()\n"
   ]
  },
  {
   "cell_type": "code",
   "execution_count": null,
   "id": "fa8dc0b1-9d62-4373-9459-9cf703398013",
   "metadata": {},
   "outputs": [],
   "source": []
  }
 ],
 "metadata": {
  "kernelspec": {
   "display_name": "Python 3 (ipykernel)",
   "language": "python",
   "name": "python3"
  },
  "language_info": {
   "codemirror_mode": {
    "name": "ipython",
    "version": 3
   },
   "file_extension": ".py",
   "mimetype": "text/x-python",
   "name": "python",
   "nbconvert_exporter": "python",
   "pygments_lexer": "ipython3",
   "version": "3.8.10"
  }
 },
 "nbformat": 4,
 "nbformat_minor": 5
}
